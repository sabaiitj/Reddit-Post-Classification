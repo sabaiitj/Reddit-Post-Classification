{
 "cells": [
  {
   "cell_type": "code",
   "execution_count": 6,
   "id": "77b8b1a8",
   "metadata": {},
   "outputs": [],
   "source": [
    "import requests\n",
    "from bs4 import BeautifulSoup\n",
    "import pandas as pd \n",
    "import numpy as np"
   ]
  },
  {
   "cell_type": "code",
   "execution_count": 7,
   "id": "e943c795",
   "metadata": {},
   "outputs": [],
   "source": [
    "import praw"
   ]
  },
  {
   "cell_type": "code",
   "execution_count": 8,
   "id": "99879db7",
   "metadata": {},
   "outputs": [],
   "source": [
    "reddit = praw.Reddit(client_id='89t0Tjzp4YkOenLbtGjJpw', \n",
    "                     client_secret='MBLF8lTJgLhBHIlq1v2sa9HHVw69eg', \n",
    "                     user_agent='Testing_API')"
   ]
  },
  {
   "cell_type": "code",
   "execution_count": 9,
   "id": "df854019",
   "metadata": {},
   "outputs": [
    {
     "name": "stdout",
     "output_type": "stream",
     "text": [
      "RYAN COHEN TWEET\n",
      "The Wild West\n",
      "Shooter entered school through propped open door, had over 1,600 rounds of ammunition\n",
      "Motorcyclist chases after POS driver who fled from a Hit and Run\n",
      "History repeats.\n",
      "(GQP) Bans don't work. (Also GQP) Ban abortions.\n",
      "60 minutes later...\n",
      "[OC] New flag for our police\n",
      "A park bench that can fold to a table\n",
      "NBC capitalizing on a school shooting to increase views\n"
     ]
    }
   ],
   "source": [
    "# get hottest posts from all subreddits\n",
    "hot_posts = reddit.subreddit('all').hot(limit=10)\n",
    "for post in hot_posts:\n",
    "    print(post.title)"
   ]
  },
  {
   "cell_type": "markdown",
   "id": "a282326e",
   "metadata": {},
   "source": [
    "**This variable can be iterated over and features including the post title, id and url can be extracted and saved into an .csv file.**"
   ]
  },
  {
   "cell_type": "code",
   "execution_count": 10,
   "id": "fecccebd",
   "metadata": {},
   "outputs": [],
   "source": [
    "import pandas as pd\n",
    "posts = []\n",
    "all_reddit = reddit.subreddit('all')\n",
    "for post in all_reddit.hot(limit=7000):\n",
    "    posts.append([post.title, post.score, post.id, post.subreddit, post.url, post.num_comments, post.selftext, post.created])\n",
    "posts = pd.DataFrame(posts,columns=['title', 'score', 'id', 'subreddit', 'url', 'num_comments', 'body', 'created'])\n"
   ]
  },
  {
   "cell_type": "code",
   "execution_count": 11,
   "id": "e1b3ebe7",
   "metadata": {},
   "outputs": [
    {
     "data": {
      "text/plain": [
       "(1000, 8)"
      ]
     },
     "execution_count": 11,
     "metadata": {},
     "output_type": "execute_result"
    }
   ],
   "source": [
    "posts.shape"
   ]
  },
  {
   "cell_type": "code",
   "execution_count": 12,
   "id": "2fef15b9",
   "metadata": {},
   "outputs": [
    {
     "data": {
      "text/html": [
       "<div>\n",
       "<style scoped>\n",
       "    .dataframe tbody tr th:only-of-type {\n",
       "        vertical-align: middle;\n",
       "    }\n",
       "\n",
       "    .dataframe tbody tr th {\n",
       "        vertical-align: top;\n",
       "    }\n",
       "\n",
       "    .dataframe thead th {\n",
       "        text-align: right;\n",
       "    }\n",
       "</style>\n",
       "<table border=\"1\" class=\"dataframe\">\n",
       "  <thead>\n",
       "    <tr style=\"text-align: right;\">\n",
       "      <th></th>\n",
       "      <th>title</th>\n",
       "      <th>score</th>\n",
       "      <th>id</th>\n",
       "      <th>subreddit</th>\n",
       "      <th>url</th>\n",
       "      <th>num_comments</th>\n",
       "      <th>body</th>\n",
       "      <th>created</th>\n",
       "    </tr>\n",
       "  </thead>\n",
       "  <tbody>\n",
       "    <tr>\n",
       "      <th>0</th>\n",
       "      <td>RYAN COHEN TWEET</td>\n",
       "      <td>11166</td>\n",
       "      <td>uz5kjd</td>\n",
       "      <td>Superstonk</td>\n",
       "      <td>https://twitter.com/ryancohen/status/153026677...</td>\n",
       "      <td>1206</td>\n",
       "      <td></td>\n",
       "      <td>1.653679e+09</td>\n",
       "    </tr>\n",
       "    <tr>\n",
       "      <th>1</th>\n",
       "      <td>The Wild West</td>\n",
       "      <td>54122</td>\n",
       "      <td>uz2hu0</td>\n",
       "      <td>Unexpected</td>\n",
       "      <td>https://gfycat.com/peskybaregoral</td>\n",
       "      <td>502</td>\n",
       "      <td></td>\n",
       "      <td>1.653670e+09</td>\n",
       "    </tr>\n",
       "    <tr>\n",
       "      <th>2</th>\n",
       "      <td>Shooter entered school through propped open do...</td>\n",
       "      <td>13324</td>\n",
       "      <td>uz383g</td>\n",
       "      <td>news</td>\n",
       "      <td>https://news4sanantonio.com/news/local/officia...</td>\n",
       "      <td>2882</td>\n",
       "      <td></td>\n",
       "      <td>1.653672e+09</td>\n",
       "    </tr>\n",
       "    <tr>\n",
       "      <th>3</th>\n",
       "      <td>Motorcyclist chases after POS driver who fled ...</td>\n",
       "      <td>17255</td>\n",
       "      <td>uz3jm7</td>\n",
       "      <td>iamatotalpieceofshit</td>\n",
       "      <td>https://v.redd.it/xyfi4t7p12291</td>\n",
       "      <td>970</td>\n",
       "      <td></td>\n",
       "      <td>1.653673e+09</td>\n",
       "    </tr>\n",
       "    <tr>\n",
       "      <th>4</th>\n",
       "      <td>History repeats.</td>\n",
       "      <td>18354</td>\n",
       "      <td>uz2nvk</td>\n",
       "      <td>antiwork</td>\n",
       "      <td>https://i.redd.it/y16w0jvmu1291.jpg</td>\n",
       "      <td>380</td>\n",
       "      <td></td>\n",
       "      <td>1.653671e+09</td>\n",
       "    </tr>\n",
       "  </tbody>\n",
       "</table>\n",
       "</div>"
      ],
      "text/plain": [
       "                                               title  score      id  \\\n",
       "0                                   RYAN COHEN TWEET  11166  uz5kjd   \n",
       "1                                      The Wild West  54122  uz2hu0   \n",
       "2  Shooter entered school through propped open do...  13324  uz383g   \n",
       "3  Motorcyclist chases after POS driver who fled ...  17255  uz3jm7   \n",
       "4                                   History repeats.  18354  uz2nvk   \n",
       "\n",
       "              subreddit                                                url  \\\n",
       "0            Superstonk  https://twitter.com/ryancohen/status/153026677...   \n",
       "1            Unexpected                  https://gfycat.com/peskybaregoral   \n",
       "2                  news  https://news4sanantonio.com/news/local/officia...   \n",
       "3  iamatotalpieceofshit                    https://v.redd.it/xyfi4t7p12291   \n",
       "4              antiwork                https://i.redd.it/y16w0jvmu1291.jpg   \n",
       "\n",
       "   num_comments body       created  \n",
       "0          1206       1.653679e+09  \n",
       "1           502       1.653670e+09  \n",
       "2          2882       1.653672e+09  \n",
       "3           970       1.653673e+09  \n",
       "4           380       1.653671e+09  "
      ]
     },
     "execution_count": 12,
     "metadata": {},
     "output_type": "execute_result"
    }
   ],
   "source": [
    "posts.head()"
   ]
  },
  {
   "cell_type": "code",
   "execution_count": null,
   "id": "78e060c5",
   "metadata": {},
   "outputs": [],
   "source": [
    "posts.to_csv('RedditPosts')"
   ]
  }
 ],
 "metadata": {
  "kernelspec": {
   "display_name": "Python 3 (ipykernel)",
   "language": "python",
   "name": "python3"
  },
  "language_info": {
   "codemirror_mode": {
    "name": "ipython",
    "version": 3
   },
   "file_extension": ".py",
   "mimetype": "text/x-python",
   "name": "python",
   "nbconvert_exporter": "python",
   "pygments_lexer": "ipython3",
   "version": "3.9.7"
  },
  "toc": {
   "base_numbering": 1,
   "nav_menu": {},
   "number_sections": true,
   "sideBar": true,
   "skip_h1_title": false,
   "title_cell": "Table of Contents",
   "title_sidebar": "Contents",
   "toc_cell": false,
   "toc_position": {},
   "toc_section_display": true,
   "toc_window_display": false
  }
 },
 "nbformat": 4,
 "nbformat_minor": 5
}
