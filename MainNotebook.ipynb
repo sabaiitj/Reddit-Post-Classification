{
 "cells": [
  {
   "cell_type": "code",
   "execution_count": 6,
   "id": "77b8b1a8",
   "metadata": {},
   "outputs": [],
   "source": [
    "import requests\n",
    "from bs4 import BeautifulSoup\n",
    "import pandas as pd \n",
    "import numpy as np"
   ]
  },
  {
   "cell_type": "code",
   "execution_count": 7,
   "id": "e943c795",
   "metadata": {},
   "outputs": [],
   "source": [
    "import praw"
   ]
  },
  {
   "cell_type": "code",
   "execution_count": 8,
   "id": "99879db7",
   "metadata": {},
   "outputs": [],
   "source": [
    "reddit = praw.Reddit(client_id='89t0Tjzp4YkOenLbtGjJpw', \n",
    "                     client_secret='MBLF8lTJgLhBHIlq1v2sa9HHVw69eg', \n",
    "                     user_agent='Testing_API')"
   ]
  },
  {
   "cell_type": "code",
   "execution_count": 9,
   "id": "9cc4ac7a",
   "metadata": {},
   "outputs": [
    {
     "name": "stdout",
     "output_type": "stream",
     "text": [
      "[D] Simple Questions Thread\n",
      "[D] Machine Learning - WAYR (What Are You Reading) - Week 138\n",
      "[R] An Evolutionary Approach to Dynamic Introduction of Tasks in Large-scale Multitask Learning Systems - Google 2022 - Jeff Dean\n",
      "[R] New datasets for StyleGAN\n",
      "[R] Large Language Models are Zero-Shot Reasoners. My summary: Adding text such as \"Let’s think step by step\" to a prompt \"elicits chain of thought from large language models across a variety of reasoning tasks\".\n",
      "[P] Looking for datasets containing slide decks / powerpoint presentations\n",
      "[R] CNNs are Myopic\n",
      "[D] Understanding the fundamental maths vs just use existing Python libraries?\n",
      "Accurate detection of sepsis at ED triage using machine learning with clinical natural language processing (Preprint open for comments)\n",
      "[Discussion] How does the SimCLR loss function not penalize image belonging to the same class?\n"
     ]
    }
   ],
   "source": [
    "# get 10 hot posts from the MachineLearning subreddit\n",
    "hot_posts = reddit.subreddit('MachineLearning').hot(limit=10)\n",
    "for post in hot_posts:\n",
    "    print(post.title)"
   ]
  },
  {
   "cell_type": "code",
   "execution_count": 10,
   "id": "df854019",
   "metadata": {},
   "outputs": [
    {
     "name": "stdout",
     "output_type": "stream",
     "text": [
      "r/conservative starting to see the signs...\n",
      "Found at a local brewery! Finally have something to water my plants with.\n",
      "Got my piece of shot down Russian plane today after donating to dronesforukraine.fund\n",
      "Surprise\n",
      "These folks were quacking for food but specifically spit out and shook their heads at my strawberries and bananas. Pft. So rude.\n",
      "4 shades of blue in one photo in Antarctica\n",
      "Social media has ruined us\n",
      "It is ABSURD that people are recommending Teacher's be trained to kill school shooters to protect children , while still paying them $35,000 at the same time. WTF\n",
      "Children who play more video games show greater gains in intelligence over time, study finds\n",
      "Slow-motion juggling\n"
     ]
    }
   ],
   "source": [
    "# get hottest posts from all subreddits\n",
    "hot_posts = reddit.subreddit('all').hot(limit=10)\n",
    "for post in hot_posts:\n",
    "    print(post.title)"
   ]
  },
  {
   "cell_type": "markdown",
   "id": "a282326e",
   "metadata": {},
   "source": [
    "**This variable can be iterated over and features including the post title, id and url can be extracted and saved into an .csv file.**"
   ]
  },
  {
   "cell_type": "code",
   "execution_count": 11,
   "id": "fecccebd",
   "metadata": {},
   "outputs": [
    {
     "name": "stdout",
     "output_type": "stream",
     "text": [
      "                                               title  score      id  \\\n",
      "0                        [D] Simple Questions Thread      8  uvcp51   \n",
      "1  [D] Machine Learning - WAYR (What Are You Read...      6  uvl3xc   \n",
      "2  [R] An Evolutionary Approach to Dynamic Introd...     46  uyfmlj   \n",
      "3                      [R] New datasets for StyleGAN     51  uy63yr   \n",
      "4  [R] Large Language Models are Zero-Shot Reason...    193  uxwl51   \n",
      "5  [P] Looking for datasets containing slide deck...      2  uykbym   \n",
      "6                                [R] CNNs are Myopic     39  uy0v0r   \n",
      "7  [D] Understanding the fundamental maths vs jus...      2  uyimlk   \n",
      "8  Accurate detection of sepsis at ED triage usin...      1  uymxmo   \n",
      "9  [Discussion] How does the SimCLR loss function...      0  uymuok   \n",
      "\n",
      "         subreddit                                                url  \\\n",
      "0  MachineLearning  https://www.reddit.com/r/MachineLearning/comme...   \n",
      "1  MachineLearning  https://www.reddit.com/r/MachineLearning/comme...   \n",
      "2  MachineLearning  https://www.reddit.com/r/MachineLearning/comme...   \n",
      "3  MachineLearning  https://www.reddit.com/r/MachineLearning/comme...   \n",
      "4  MachineLearning                   https://arxiv.org/abs/2205.11916   \n",
      "5  MachineLearning  https://www.reddit.com/r/MachineLearning/comme...   \n",
      "6  MachineLearning                   https://arxiv.org/abs/2205.10760   \n",
      "7  MachineLearning  https://www.reddit.com/r/MachineLearning/comme...   \n",
      "8  MachineLearning                   https://arxiv.org/abs/2204.07657   \n",
      "9  MachineLearning  https://www.reddit.com/r/MachineLearning/comme...   \n",
      "\n",
      "   num_comments                                               body  \\\n",
      "0            40  Please post your questions here instead of cre...   \n",
      "1             4  This is a place to share machine learning rese...   \n",
      "2             1  Paper: [https://arxiv.org/abs/2205.12755](http...   \n",
      "3             6  Hi all, The Author is here.\\n\\nTL;DR: We show ...   \n",
      "4            48                                                      \n",
      "5             0  I'm currently working on a project that aims t...   \n",
      "6             5                                                      \n",
      "7             8  I'm interested in developing trading algorithm...   \n",
      "8             0                                                      \n",
      "9             1  I have a question about [SimCLR](https://arxiv...   \n",
      "\n",
      "        created  \n",
      "0  1.653232e+09  \n",
      "1  1.653256e+09  \n",
      "2  1.653594e+09  \n",
      "3  1.653567e+09  \n",
      "4  1.653529e+09  \n",
      "5  1.653607e+09  \n",
      "6  1.653545e+09  \n",
      "7  1.653602e+09  \n",
      "8  1.653615e+09  \n",
      "9  1.653615e+09  \n"
     ]
    }
   ],
   "source": [
    "import pandas as pd\n",
    "posts = []\n",
    "ml_subreddit = reddit.subreddit('MachineLearning')\n",
    "for post in ml_subreddit.hot(limit=10):\n",
    "    posts.append([post.title, post.score, post.id, post.subreddit, post.url, post.num_comments, post.selftext, post.created])\n",
    "posts = pd.DataFrame(posts,columns=['title', 'score', 'id', 'subreddit', 'url', 'num_comments', 'body', 'created'])\n",
    "print(posts)"
   ]
  },
  {
   "cell_type": "code",
   "execution_count": null,
   "id": "e1b3ebe7",
   "metadata": {},
   "outputs": [],
   "source": []
  }
 ],
 "metadata": {
  "kernelspec": {
   "display_name": "Python 3 (ipykernel)",
   "language": "python",
   "name": "python3"
  },
  "language_info": {
   "codemirror_mode": {
    "name": "ipython",
    "version": 3
   },
   "file_extension": ".py",
   "mimetype": "text/x-python",
   "name": "python",
   "nbconvert_exporter": "python",
   "pygments_lexer": "ipython3",
   "version": "3.9.7"
  },
  "toc": {
   "base_numbering": 1,
   "nav_menu": {},
   "number_sections": true,
   "sideBar": true,
   "skip_h1_title": false,
   "title_cell": "Table of Contents",
   "title_sidebar": "Contents",
   "toc_cell": false,
   "toc_position": {},
   "toc_section_display": true,
   "toc_window_display": false
  }
 },
 "nbformat": 4,
 "nbformat_minor": 5
}
