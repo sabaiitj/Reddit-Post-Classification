{
 "cells": [
  {
   "cell_type": "markdown",
   "id": "5ed07c73",
   "metadata": {},
   "source": [
    "## Scenario\n",
    "**Nate Silver and co. at FiveThirtyEight have agreed to hear my pitch for a story in two weeks!\n",
    "Your piece is going to be on how to create a Reddit post that will get the most engagement\n",
    "from Reddit users. Because this is FiveThirtyEight, you're going to have to get data and \n",
    "analyze it in order to make a compelling narrative.**\n",
    "\n",
    "There are two major tasks involved:\n",
    "- Collecting data by scraping a website \n",
    "- building a binary predictor.\n"
   ]
  },
  {
   "cell_type": "markdown",
   "id": "a777626e",
   "metadata": {},
   "source": [
    "## Problem statement is: \n",
    "- **What characteristics of a post on Reddit are most predictive of the overall interaction on a thread (as measured by number of comments)?**\n",
    "\n",
    "### Method for acquiring the data will be -*scraping the 'hot' threads as listed on the Reddit homepage.*"
   ]
  },
  {
   "cell_type": "markdown",
   "id": "2fecb77f",
   "metadata": {},
   "source": [
    "We need to build a classification model that, using Natural Language Processing and any\n",
    "other relevant features, predicts whether or not a given Reddit post will have above or \n",
    "below the median number of comments."
   ]
  },
  {
   "cell_type": "markdown",
   "id": "66e7a470",
   "metadata": {},
   "source": [
    "We start by importing libraries."
   ]
  },
  {
   "cell_type": "code",
   "execution_count": 126,
   "id": "9c721799",
   "metadata": {},
   "outputs": [],
   "source": [
    "import pandas as pd \n",
    "import numpy as np \n",
    "import matplotlib.pyplot as plt\n",
    "import seaborn as sns\n",
    "from sklearn.feature_extraction.text import CountVectorizer\n",
    "from sklearn.feature_extraction.text import TfidfVectorizer\n",
    "\n",
    "import re\n",
    "from nltk.corpus import stopwords\n",
    "from nltk.stem import WordNetLemmatizer\n",
    "from sklearn.linear_model import LogisticRegression\n",
    "from sklearn.ensemble import RandomForestClassifier, BaggingClassifier\n",
    "from sklearn.neighbors import KNeighborsClassifier\n",
    "from sklearn.preprocessing import StandardScaler\n",
    "from sklearn.metrics import (accuracy_score, \n",
    "                            confusion_matrix, \n",
    "                            classification_report,\n",
    "                            plot_confusion_matrix)\n",
    "from sklearn.model_selection import StratifiedKFold\n",
    "\n",
    "from nltk.stem.snowball import SnowballStemmer\n",
    "\n",
    "import nltk\n",
    "from nltk.corpus import stopwords, wordnet\n",
    "stop_words = set(stopwords.words('english'))\n",
    "\n",
    "from nltk.stem import WordNetLemmatizer\n",
    "lemmatizer = WordNetLemmatizer()\n",
    "\n",
    "from sklearn.model_selection import train_test_split, cross_val_score, GridSearchCV,KFold\n",
    "from sklearn.metrics import accuracy_score, precision_score, recall_score, f1_score, roc_curve, auc, roc_auc_score"
   ]
  },
  {
   "cell_type": "code",
   "execution_count": 2,
   "id": "8818d9c2",
   "metadata": {},
   "outputs": [],
   "source": [
    "df = pd.read_csv('Data/reddit_hot_posts.csv')"
   ]
  },
  {
   "cell_type": "code",
   "execution_count": 3,
   "id": "e0bee950",
   "metadata": {},
   "outputs": [
    {
     "data": {
      "text/html": [
       "<div>\n",
       "<style scoped>\n",
       "    .dataframe tbody tr th:only-of-type {\n",
       "        vertical-align: middle;\n",
       "    }\n",
       "\n",
       "    .dataframe tbody tr th {\n",
       "        vertical-align: top;\n",
       "    }\n",
       "\n",
       "    .dataframe thead th {\n",
       "        text-align: right;\n",
       "    }\n",
       "</style>\n",
       "<table border=\"1\" class=\"dataframe\">\n",
       "  <thead>\n",
       "    <tr style=\"text-align: right;\">\n",
       "      <th></th>\n",
       "      <th>post_id</th>\n",
       "      <th>author_comment_karma</th>\n",
       "      <th>author_link_karma</th>\n",
       "      <th>time_in_mins</th>\n",
       "      <th>post_is_original_content</th>\n",
       "      <th>post_name</th>\n",
       "      <th>post_num_comments</th>\n",
       "      <th>post_over_18</th>\n",
       "      <th>post_score</th>\n",
       "      <th>post_has_link</th>\n",
       "      <th>post_spoiler</th>\n",
       "      <th>post_stickied</th>\n",
       "      <th>subreddit_id</th>\n",
       "      <th>subreddit_name</th>\n",
       "      <th>subreddit_subscriber_count</th>\n",
       "      <th>post_title</th>\n",
       "      <th>post_upvote_ratio</th>\n",
       "      <th>post_url</th>\n",
       "      <th>subreddit_display_name</th>\n",
       "    </tr>\n",
       "  </thead>\n",
       "  <tbody>\n",
       "    <tr>\n",
       "      <th>0</th>\n",
       "      <td>uz8935</td>\n",
       "      <td>15541</td>\n",
       "      <td>60892</td>\n",
       "      <td>665</td>\n",
       "      <td>False</td>\n",
       "      <td>t3_uz8935</td>\n",
       "      <td>842</td>\n",
       "      <td>False</td>\n",
       "      <td>47197</td>\n",
       "      <td>False</td>\n",
       "      <td>False</td>\n",
       "      <td>False</td>\n",
       "      <td>35n7t</td>\n",
       "      <td>t5_35n7t</td>\n",
       "      <td>2536337</td>\n",
       "      <td>Cops don't help</td>\n",
       "      <td>0.94</td>\n",
       "      <td>https://i.redd.it/hmyphrd963291.jpg</td>\n",
       "      <td>WhitePeopleTwitter</td>\n",
       "    </tr>\n",
       "    <tr>\n",
       "      <th>1</th>\n",
       "      <td>uz7wjk</td>\n",
       "      <td>58678</td>\n",
       "      <td>6272</td>\n",
       "      <td>682</td>\n",
       "      <td>False</td>\n",
       "      <td>t3_uz7wjk</td>\n",
       "      <td>2007</td>\n",
       "      <td>False</td>\n",
       "      <td>20288</td>\n",
       "      <td>False</td>\n",
       "      <td>False</td>\n",
       "      <td>False</td>\n",
       "      <td>2qh3l</td>\n",
       "      <td>t5_2qh3l</td>\n",
       "      <td>24719676</td>\n",
       "      <td>Uvalde school police chief identified as comma...</td>\n",
       "      <td>0.97</td>\n",
       "      <td>https://www.cnn.com/us/live-news/texas-element...</td>\n",
       "      <td>news</td>\n",
       "    </tr>\n",
       "    <tr>\n",
       "      <th>2</th>\n",
       "      <td>uz88xi</td>\n",
       "      <td>3302</td>\n",
       "      <td>6450</td>\n",
       "      <td>666</td>\n",
       "      <td>False</td>\n",
       "      <td>t3_uz88xi</td>\n",
       "      <td>988</td>\n",
       "      <td>False</td>\n",
       "      <td>13857</td>\n",
       "      <td>False</td>\n",
       "      <td>False</td>\n",
       "      <td>False</td>\n",
       "      <td>2qnts</td>\n",
       "      <td>t5_2qnts</td>\n",
       "      <td>21410219</td>\n",
       "      <td>Police didn't immediately confront the gunman ...</td>\n",
       "      <td>0.97</td>\n",
       "      <td>https://www.insider.com/texas-shooting-police-...</td>\n",
       "      <td>nottheonion</td>\n",
       "    </tr>\n",
       "    <tr>\n",
       "      <th>3</th>\n",
       "      <td>uz6jv0</td>\n",
       "      <td>230</td>\n",
       "      <td>6754</td>\n",
       "      <td>748</td>\n",
       "      <td>False</td>\n",
       "      <td>t3_uz6jv0</td>\n",
       "      <td>555</td>\n",
       "      <td>False</td>\n",
       "      <td>20928</td>\n",
       "      <td>False</td>\n",
       "      <td>False</td>\n",
       "      <td>False</td>\n",
       "      <td>35fmc</td>\n",
       "      <td>t5_35fmc</td>\n",
       "      <td>2315682</td>\n",
       "      <td>Customer is upset that a mattress store won’t…...</td>\n",
       "      <td>0.97</td>\n",
       "      <td>https://i.redd.it/p1tbj9lnr2291.jpg</td>\n",
       "      <td>ChoosingBeggars</td>\n",
       "    </tr>\n",
       "    <tr>\n",
       "      <th>4</th>\n",
       "      <td>uz626e</td>\n",
       "      <td>28965</td>\n",
       "      <td>6418</td>\n",
       "      <td>772</td>\n",
       "      <td>False</td>\n",
       "      <td>t3_uz626e</td>\n",
       "      <td>897</td>\n",
       "      <td>False</td>\n",
       "      <td>26027</td>\n",
       "      <td>False</td>\n",
       "      <td>False</td>\n",
       "      <td>False</td>\n",
       "      <td>2y77d</td>\n",
       "      <td>t5_2y77d</td>\n",
       "      <td>1956757</td>\n",
       "      <td>Cops trying to join the movement.</td>\n",
       "      <td>0.95</td>\n",
       "      <td>https://i.redd.it/zsbadixgn2291.jpg</td>\n",
       "      <td>antiwork</td>\n",
       "    </tr>\n",
       "  </tbody>\n",
       "</table>\n",
       "</div>"
      ],
      "text/plain": [
       "  post_id  author_comment_karma  author_link_karma  time_in_mins  \\\n",
       "0  uz8935                 15541              60892           665   \n",
       "1  uz7wjk                 58678               6272           682   \n",
       "2  uz88xi                  3302               6450           666   \n",
       "3  uz6jv0                   230               6754           748   \n",
       "4  uz626e                 28965               6418           772   \n",
       "\n",
       "   post_is_original_content  post_name  post_num_comments  post_over_18  \\\n",
       "0                     False  t3_uz8935                842         False   \n",
       "1                     False  t3_uz7wjk               2007         False   \n",
       "2                     False  t3_uz88xi                988         False   \n",
       "3                     False  t3_uz6jv0                555         False   \n",
       "4                     False  t3_uz626e                897         False   \n",
       "\n",
       "   post_score  post_has_link  post_spoiler  post_stickied subreddit_id  \\\n",
       "0       47197          False         False          False        35n7t   \n",
       "1       20288          False         False          False        2qh3l   \n",
       "2       13857          False         False          False        2qnts   \n",
       "3       20928          False         False          False        35fmc   \n",
       "4       26027          False         False          False        2y77d   \n",
       "\n",
       "  subreddit_name  subreddit_subscriber_count  \\\n",
       "0       t5_35n7t                     2536337   \n",
       "1       t5_2qh3l                    24719676   \n",
       "2       t5_2qnts                    21410219   \n",
       "3       t5_35fmc                     2315682   \n",
       "4       t5_2y77d                     1956757   \n",
       "\n",
       "                                          post_title  post_upvote_ratio  \\\n",
       "0                                    Cops don't help               0.94   \n",
       "1  Uvalde school police chief identified as comma...               0.97   \n",
       "2  Police didn't immediately confront the gunman ...               0.97   \n",
       "3  Customer is upset that a mattress store won’t…...               0.97   \n",
       "4                  Cops trying to join the movement.               0.95   \n",
       "\n",
       "                                            post_url subreddit_display_name  \n",
       "0                https://i.redd.it/hmyphrd963291.jpg     WhitePeopleTwitter  \n",
       "1  https://www.cnn.com/us/live-news/texas-element...                   news  \n",
       "2  https://www.insider.com/texas-shooting-police-...            nottheonion  \n",
       "3                https://i.redd.it/p1tbj9lnr2291.jpg        ChoosingBeggars  \n",
       "4                https://i.redd.it/zsbadixgn2291.jpg               antiwork  "
      ]
     },
     "execution_count": 3,
     "metadata": {},
     "output_type": "execute_result"
    }
   ],
   "source": [
    "df.head()"
   ]
  },
  {
   "cell_type": "code",
   "execution_count": 4,
   "id": "54de64ac",
   "metadata": {},
   "outputs": [
    {
     "data": {
      "text/plain": [
       "(11353, 19)"
      ]
     },
     "execution_count": 4,
     "metadata": {},
     "output_type": "execute_result"
    }
   ],
   "source": [
    "df.shape"
   ]
  },
  {
   "cell_type": "code",
   "execution_count": 5,
   "id": "e4687604",
   "metadata": {},
   "outputs": [
    {
     "data": {
      "text/plain": [
       "post_id                       0\n",
       "author_comment_karma          0\n",
       "author_link_karma             0\n",
       "time_in_mins                  0\n",
       "post_is_original_content      0\n",
       "post_name                     0\n",
       "post_num_comments             0\n",
       "post_over_18                  0\n",
       "post_score                    0\n",
       "post_has_link                 0\n",
       "post_spoiler                  0\n",
       "post_stickied                 0\n",
       "subreddit_id                  0\n",
       "subreddit_name                0\n",
       "subreddit_subscriber_count    0\n",
       "post_title                    0\n",
       "post_upvote_ratio             0\n",
       "post_url                      0\n",
       "subreddit_display_name        0\n",
       "dtype: int64"
      ]
     },
     "execution_count": 5,
     "metadata": {},
     "output_type": "execute_result"
    }
   ],
   "source": [
    "df.isnull().sum() #no nulls in any columns"
   ]
  },
  {
   "cell_type": "code",
   "execution_count": 6,
   "id": "e2570443",
   "metadata": {},
   "outputs": [
    {
     "name": "stdout",
     "output_type": "stream",
     "text": [
      "<class 'pandas.core.frame.DataFrame'>\n",
      "RangeIndex: 11353 entries, 0 to 11352\n",
      "Data columns (total 19 columns):\n",
      " #   Column                      Non-Null Count  Dtype  \n",
      "---  ------                      --------------  -----  \n",
      " 0   post_id                     11353 non-null  object \n",
      " 1   author_comment_karma        11353 non-null  int64  \n",
      " 2   author_link_karma           11353 non-null  int64  \n",
      " 3   time_in_mins                11353 non-null  int64  \n",
      " 4   post_is_original_content    11353 non-null  bool   \n",
      " 5   post_name                   11353 non-null  object \n",
      " 6   post_num_comments           11353 non-null  int64  \n",
      " 7   post_over_18                11353 non-null  bool   \n",
      " 8   post_score                  11353 non-null  int64  \n",
      " 9   post_has_link               11353 non-null  bool   \n",
      " 10  post_spoiler                11353 non-null  bool   \n",
      " 11  post_stickied               11353 non-null  bool   \n",
      " 12  subreddit_id                11353 non-null  object \n",
      " 13  subreddit_name              11353 non-null  object \n",
      " 14  subreddit_subscriber_count  11353 non-null  int64  \n",
      " 15  post_title                  11353 non-null  object \n",
      " 16  post_upvote_ratio           11353 non-null  float64\n",
      " 17  post_url                    11353 non-null  object \n",
      " 18  subreddit_display_name      11353 non-null  object \n",
      "dtypes: bool(5), float64(1), int64(6), object(7)\n",
      "memory usage: 1.3+ MB\n"
     ]
    }
   ],
   "source": [
    "df.info()"
   ]
  },
  {
   "cell_type": "code",
   "execution_count": 7,
   "id": "45b2d12e",
   "metadata": {},
   "outputs": [
    {
     "data": {
      "text/html": [
       "<div>\n",
       "<style scoped>\n",
       "    .dataframe tbody tr th:only-of-type {\n",
       "        vertical-align: middle;\n",
       "    }\n",
       "\n",
       "    .dataframe tbody tr th {\n",
       "        vertical-align: top;\n",
       "    }\n",
       "\n",
       "    .dataframe thead th {\n",
       "        text-align: right;\n",
       "    }\n",
       "</style>\n",
       "<table border=\"1\" class=\"dataframe\">\n",
       "  <thead>\n",
       "    <tr style=\"text-align: right;\">\n",
       "      <th></th>\n",
       "      <th>author_comment_karma</th>\n",
       "      <th>author_link_karma</th>\n",
       "      <th>time_in_mins</th>\n",
       "      <th>post_num_comments</th>\n",
       "      <th>post_score</th>\n",
       "      <th>subreddit_subscriber_count</th>\n",
       "      <th>post_upvote_ratio</th>\n",
       "    </tr>\n",
       "  </thead>\n",
       "  <tbody>\n",
       "    <tr>\n",
       "      <th>count</th>\n",
       "      <td>1.135300e+04</td>\n",
       "      <td>1.135300e+04</td>\n",
       "      <td>11353.000000</td>\n",
       "      <td>11353.000000</td>\n",
       "      <td>11353.000000</td>\n",
       "      <td>1.135300e+04</td>\n",
       "      <td>11353.000000</td>\n",
       "    </tr>\n",
       "    <tr>\n",
       "      <th>mean</th>\n",
       "      <td>3.339496e+04</td>\n",
       "      <td>2.901221e+05</td>\n",
       "      <td>896.755483</td>\n",
       "      <td>130.529023</td>\n",
       "      <td>3403.962389</td>\n",
       "      <td>1.904541e+06</td>\n",
       "      <td>0.966678</td>\n",
       "    </tr>\n",
       "    <tr>\n",
       "      <th>std</th>\n",
       "      <td>1.457475e+05</td>\n",
       "      <td>1.529299e+06</td>\n",
       "      <td>274.322630</td>\n",
       "      <td>477.287683</td>\n",
       "      <td>8157.792062</td>\n",
       "      <td>5.000029e+06</td>\n",
       "      <td>0.035462</td>\n",
       "    </tr>\n",
       "    <tr>\n",
       "      <th>min</th>\n",
       "      <td>-1.000000e+02</td>\n",
       "      <td>3.500000e+01</td>\n",
       "      <td>1.000000</td>\n",
       "      <td>0.000000</td>\n",
       "      <td>68.000000</td>\n",
       "      <td>9.600000e+02</td>\n",
       "      <td>0.590000</td>\n",
       "    </tr>\n",
       "    <tr>\n",
       "      <th>25%</th>\n",
       "      <td>4.960000e+02</td>\n",
       "      <td>2.689000e+03</td>\n",
       "      <td>739.000000</td>\n",
       "      <td>15.000000</td>\n",
       "      <td>457.000000</td>\n",
       "      <td>1.366720e+05</td>\n",
       "      <td>0.960000</td>\n",
       "    </tr>\n",
       "    <tr>\n",
       "      <th>50%</th>\n",
       "      <td>3.480000e+03</td>\n",
       "      <td>1.132000e+04</td>\n",
       "      <td>896.000000</td>\n",
       "      <td>38.000000</td>\n",
       "      <td>1051.000000</td>\n",
       "      <td>3.814780e+05</td>\n",
       "      <td>0.980000</td>\n",
       "    </tr>\n",
       "    <tr>\n",
       "      <th>75%</th>\n",
       "      <td>1.766600e+04</td>\n",
       "      <td>5.824000e+04</td>\n",
       "      <td>1086.000000</td>\n",
       "      <td>103.000000</td>\n",
       "      <td>2760.000000</td>\n",
       "      <td>1.219771e+06</td>\n",
       "      <td>0.990000</td>\n",
       "    </tr>\n",
       "    <tr>\n",
       "      <th>max</th>\n",
       "      <td>4.625719e+06</td>\n",
       "      <td>3.952919e+07</td>\n",
       "      <td>1440.000000</td>\n",
       "      <td>19438.000000</td>\n",
       "      <td>213558.000000</td>\n",
       "      <td>4.087651e+07</td>\n",
       "      <td>1.000000</td>\n",
       "    </tr>\n",
       "  </tbody>\n",
       "</table>\n",
       "</div>"
      ],
      "text/plain": [
       "       author_comment_karma  author_link_karma  time_in_mins  \\\n",
       "count          1.135300e+04       1.135300e+04  11353.000000   \n",
       "mean           3.339496e+04       2.901221e+05    896.755483   \n",
       "std            1.457475e+05       1.529299e+06    274.322630   \n",
       "min           -1.000000e+02       3.500000e+01      1.000000   \n",
       "25%            4.960000e+02       2.689000e+03    739.000000   \n",
       "50%            3.480000e+03       1.132000e+04    896.000000   \n",
       "75%            1.766600e+04       5.824000e+04   1086.000000   \n",
       "max            4.625719e+06       3.952919e+07   1440.000000   \n",
       "\n",
       "       post_num_comments     post_score  subreddit_subscriber_count  \\\n",
       "count       11353.000000   11353.000000                1.135300e+04   \n",
       "mean          130.529023    3403.962389                1.904541e+06   \n",
       "std           477.287683    8157.792062                5.000029e+06   \n",
       "min             0.000000      68.000000                9.600000e+02   \n",
       "25%            15.000000     457.000000                1.366720e+05   \n",
       "50%            38.000000    1051.000000                3.814780e+05   \n",
       "75%           103.000000    2760.000000                1.219771e+06   \n",
       "max         19438.000000  213558.000000                4.087651e+07   \n",
       "\n",
       "       post_upvote_ratio  \n",
       "count       11353.000000  \n",
       "mean            0.966678  \n",
       "std             0.035462  \n",
       "min             0.590000  \n",
       "25%             0.960000  \n",
       "50%             0.980000  \n",
       "75%             0.990000  \n",
       "max             1.000000  "
      ]
     },
     "execution_count": 7,
     "metadata": {},
     "output_type": "execute_result"
    }
   ],
   "source": [
    "df.describe()"
   ]
  },
  {
   "cell_type": "code",
   "execution_count": null,
   "id": "5b73512c",
   "metadata": {},
   "outputs": [],
   "source": []
  },
  {
   "cell_type": "markdown",
   "id": "ee57c23f",
   "metadata": {},
   "source": [
    "## Creating a new binary variable target\n",
    "\n",
    "We want to predict a binary variable our target variable, to know whether the number of comments was low or high. For that we:\n",
    "- Compute the median number of comments and create a new binary target variable that is true when the number of comments is greater than the median).\n",
    "- We convert this into a _binary_ classification problem, by predicting two classes, high vs low number of comments."
   ]
  },
  {
   "cell_type": "code",
   "execution_count": 8,
   "id": "a07a5e9f",
   "metadata": {},
   "outputs": [],
   "source": [
    "median_number_comments = np.median(df['post_num_comments'])"
   ]
  },
  {
   "cell_type": "code",
   "execution_count": 9,
   "id": "00856056",
   "metadata": {},
   "outputs": [],
   "source": [
    "df['target'] = [1 if entry>median_number_comments else 0 for entry in df.post_num_comments]"
   ]
  },
  {
   "cell_type": "markdown",
   "id": "935a58d3",
   "metadata": {},
   "source": [
    "## Creating explicit binary columns for boolean columns"
   ]
  },
  {
   "cell_type": "markdown",
   "id": "31d1d138",
   "metadata": {},
   "source": [
    "We want to convert booleans into 1 and 0 explicitly for ease of computation"
   ]
  },
  {
   "cell_type": "code",
   "execution_count": 10,
   "id": "c47324eb",
   "metadata": {},
   "outputs": [],
   "source": [
    "df['post_is_original_content'] = [1 if entry == True else 0 for entry in df['post_is_original_content']]"
   ]
  },
  {
   "cell_type": "code",
   "execution_count": 11,
   "id": "5c3fd015",
   "metadata": {},
   "outputs": [],
   "source": [
    "df['post_over_18'] = [1 if entry ==True else 0 for entry in df['post_over_18']]"
   ]
  },
  {
   "cell_type": "code",
   "execution_count": 12,
   "id": "231fc9ee",
   "metadata": {},
   "outputs": [],
   "source": [
    "df['post_has_link'] =[1 if entry ==True else 0 for entry in df['post_has_link']]"
   ]
  },
  {
   "cell_type": "code",
   "execution_count": 13,
   "id": "82d73db3",
   "metadata": {},
   "outputs": [],
   "source": [
    "df['post_spoiler'] = [1 if entry ==True else 0 for entry in df['post_spoiler']]"
   ]
  },
  {
   "cell_type": "code",
   "execution_count": 14,
   "id": "ca671179",
   "metadata": {},
   "outputs": [],
   "source": [
    "df['post_stickied'] = [1 if entry ==True else 0 for entry in df['post_stickied']]"
   ]
  },
  {
   "cell_type": "markdown",
   "id": "14349352",
   "metadata": {},
   "source": [
    "**We are dropping subreddit_name, subreddit_id, post_name and post_url as they seem irrelevant for computational purposes**"
   ]
  },
  {
   "cell_type": "code",
   "execution_count": 15,
   "id": "4087fb0c",
   "metadata": {},
   "outputs": [],
   "source": [
    "df.drop(columns=['subreddit_name','subreddit_id','post_name','post_url'], inplace=True)"
   ]
  },
  {
   "cell_type": "code",
   "execution_count": 16,
   "id": "da8ea82c",
   "metadata": {},
   "outputs": [
    {
     "data": {
      "text/html": [
       "<div>\n",
       "<style scoped>\n",
       "    .dataframe tbody tr th:only-of-type {\n",
       "        vertical-align: middle;\n",
       "    }\n",
       "\n",
       "    .dataframe tbody tr th {\n",
       "        vertical-align: top;\n",
       "    }\n",
       "\n",
       "    .dataframe thead th {\n",
       "        text-align: right;\n",
       "    }\n",
       "</style>\n",
       "<table border=\"1\" class=\"dataframe\">\n",
       "  <thead>\n",
       "    <tr style=\"text-align: right;\">\n",
       "      <th></th>\n",
       "      <th>post_id</th>\n",
       "      <th>author_comment_karma</th>\n",
       "      <th>author_link_karma</th>\n",
       "      <th>time_in_mins</th>\n",
       "      <th>post_is_original_content</th>\n",
       "      <th>post_num_comments</th>\n",
       "      <th>post_over_18</th>\n",
       "      <th>post_score</th>\n",
       "      <th>post_has_link</th>\n",
       "      <th>post_spoiler</th>\n",
       "      <th>post_stickied</th>\n",
       "      <th>subreddit_subscriber_count</th>\n",
       "      <th>post_title</th>\n",
       "      <th>post_upvote_ratio</th>\n",
       "      <th>subreddit_display_name</th>\n",
       "      <th>target</th>\n",
       "    </tr>\n",
       "  </thead>\n",
       "  <tbody>\n",
       "    <tr>\n",
       "      <th>0</th>\n",
       "      <td>uz8935</td>\n",
       "      <td>15541</td>\n",
       "      <td>60892</td>\n",
       "      <td>665</td>\n",
       "      <td>0</td>\n",
       "      <td>842</td>\n",
       "      <td>0</td>\n",
       "      <td>47197</td>\n",
       "      <td>0</td>\n",
       "      <td>0</td>\n",
       "      <td>0</td>\n",
       "      <td>2536337</td>\n",
       "      <td>Cops don't help</td>\n",
       "      <td>0.94</td>\n",
       "      <td>WhitePeopleTwitter</td>\n",
       "      <td>1</td>\n",
       "    </tr>\n",
       "    <tr>\n",
       "      <th>1</th>\n",
       "      <td>uz7wjk</td>\n",
       "      <td>58678</td>\n",
       "      <td>6272</td>\n",
       "      <td>682</td>\n",
       "      <td>0</td>\n",
       "      <td>2007</td>\n",
       "      <td>0</td>\n",
       "      <td>20288</td>\n",
       "      <td>0</td>\n",
       "      <td>0</td>\n",
       "      <td>0</td>\n",
       "      <td>24719676</td>\n",
       "      <td>Uvalde school police chief identified as comma...</td>\n",
       "      <td>0.97</td>\n",
       "      <td>news</td>\n",
       "      <td>1</td>\n",
       "    </tr>\n",
       "    <tr>\n",
       "      <th>2</th>\n",
       "      <td>uz88xi</td>\n",
       "      <td>3302</td>\n",
       "      <td>6450</td>\n",
       "      <td>666</td>\n",
       "      <td>0</td>\n",
       "      <td>988</td>\n",
       "      <td>0</td>\n",
       "      <td>13857</td>\n",
       "      <td>0</td>\n",
       "      <td>0</td>\n",
       "      <td>0</td>\n",
       "      <td>21410219</td>\n",
       "      <td>Police didn't immediately confront the gunman ...</td>\n",
       "      <td>0.97</td>\n",
       "      <td>nottheonion</td>\n",
       "      <td>1</td>\n",
       "    </tr>\n",
       "    <tr>\n",
       "      <th>3</th>\n",
       "      <td>uz6jv0</td>\n",
       "      <td>230</td>\n",
       "      <td>6754</td>\n",
       "      <td>748</td>\n",
       "      <td>0</td>\n",
       "      <td>555</td>\n",
       "      <td>0</td>\n",
       "      <td>20928</td>\n",
       "      <td>0</td>\n",
       "      <td>0</td>\n",
       "      <td>0</td>\n",
       "      <td>2315682</td>\n",
       "      <td>Customer is upset that a mattress store won’t…...</td>\n",
       "      <td>0.97</td>\n",
       "      <td>ChoosingBeggars</td>\n",
       "      <td>1</td>\n",
       "    </tr>\n",
       "    <tr>\n",
       "      <th>4</th>\n",
       "      <td>uz626e</td>\n",
       "      <td>28965</td>\n",
       "      <td>6418</td>\n",
       "      <td>772</td>\n",
       "      <td>0</td>\n",
       "      <td>897</td>\n",
       "      <td>0</td>\n",
       "      <td>26027</td>\n",
       "      <td>0</td>\n",
       "      <td>0</td>\n",
       "      <td>0</td>\n",
       "      <td>1956757</td>\n",
       "      <td>Cops trying to join the movement.</td>\n",
       "      <td>0.95</td>\n",
       "      <td>antiwork</td>\n",
       "      <td>1</td>\n",
       "    </tr>\n",
       "  </tbody>\n",
       "</table>\n",
       "</div>"
      ],
      "text/plain": [
       "  post_id  author_comment_karma  author_link_karma  time_in_mins  \\\n",
       "0  uz8935                 15541              60892           665   \n",
       "1  uz7wjk                 58678               6272           682   \n",
       "2  uz88xi                  3302               6450           666   \n",
       "3  uz6jv0                   230               6754           748   \n",
       "4  uz626e                 28965               6418           772   \n",
       "\n",
       "   post_is_original_content  post_num_comments  post_over_18  post_score  \\\n",
       "0                         0                842             0       47197   \n",
       "1                         0               2007             0       20288   \n",
       "2                         0                988             0       13857   \n",
       "3                         0                555             0       20928   \n",
       "4                         0                897             0       26027   \n",
       "\n",
       "   post_has_link  post_spoiler  post_stickied  subreddit_subscriber_count  \\\n",
       "0              0             0              0                     2536337   \n",
       "1              0             0              0                    24719676   \n",
       "2              0             0              0                    21410219   \n",
       "3              0             0              0                     2315682   \n",
       "4              0             0              0                     1956757   \n",
       "\n",
       "                                          post_title  post_upvote_ratio  \\\n",
       "0                                    Cops don't help               0.94   \n",
       "1  Uvalde school police chief identified as comma...               0.97   \n",
       "2  Police didn't immediately confront the gunman ...               0.97   \n",
       "3  Customer is upset that a mattress store won’t…...               0.97   \n",
       "4                  Cops trying to join the movement.               0.95   \n",
       "\n",
       "  subreddit_display_name  target  \n",
       "0     WhitePeopleTwitter       1  \n",
       "1                   news       1  \n",
       "2            nottheonion       1  \n",
       "3        ChoosingBeggars       1  \n",
       "4               antiwork       1  "
      ]
     },
     "execution_count": 16,
     "metadata": {},
     "output_type": "execute_result"
    }
   ],
   "source": [
    "df.head()"
   ]
  },
  {
   "cell_type": "markdown",
   "id": "48915f17",
   "metadata": {},
   "source": [
    "## Creating a variable title_length=word count of post_title"
   ]
  },
  {
   "cell_type": "code",
   "execution_count": 17,
   "id": "b62a93f0",
   "metadata": {},
   "outputs": [],
   "source": [
    "df['title_length'] = [len(entry.strip().split()) for entry in df.post_title]"
   ]
  },
  {
   "cell_type": "markdown",
   "id": "6d06b609",
   "metadata": {},
   "source": [
    "## Dropping Duplicates"
   ]
  },
  {
   "cell_type": "code",
   "execution_count": 18,
   "id": "b25f4263",
   "metadata": {},
   "outputs": [
    {
     "data": {
      "text/plain": [
       "(395, 17)"
      ]
     },
     "execution_count": 18,
     "metadata": {},
     "output_type": "execute_result"
    }
   ],
   "source": [
    "df[df[\"post_title\"].duplicated()].shape"
   ]
  },
  {
   "cell_type": "code",
   "execution_count": 19,
   "id": "c936720c",
   "metadata": {},
   "outputs": [
    {
     "data": {
      "text/plain": [
       "(10958, 17)"
      ]
     },
     "execution_count": 19,
     "metadata": {},
     "output_type": "execute_result"
    }
   ],
   "source": [
    "df=df.drop_duplicates(keep='first',subset='post_title')\n",
    "df.shape"
   ]
  },
  {
   "cell_type": "markdown",
   "id": "aa6f9d1b",
   "metadata": {},
   "source": [
    "**Droppping post_id by manipulation**"
   ]
  },
  {
   "cell_type": "code",
   "execution_count": 20,
   "id": "0d9d70dc",
   "metadata": {},
   "outputs": [],
   "source": [
    "df.set_index('post_id',inplace=True)\n",
    "df.reset_index(inplace=True,drop=True)\n"
   ]
  },
  {
   "cell_type": "code",
   "execution_count": 21,
   "id": "497a6a60",
   "metadata": {},
   "outputs": [
    {
     "data": {
      "text/html": [
       "<div>\n",
       "<style scoped>\n",
       "    .dataframe tbody tr th:only-of-type {\n",
       "        vertical-align: middle;\n",
       "    }\n",
       "\n",
       "    .dataframe tbody tr th {\n",
       "        vertical-align: top;\n",
       "    }\n",
       "\n",
       "    .dataframe thead th {\n",
       "        text-align: right;\n",
       "    }\n",
       "</style>\n",
       "<table border=\"1\" class=\"dataframe\">\n",
       "  <thead>\n",
       "    <tr style=\"text-align: right;\">\n",
       "      <th></th>\n",
       "      <th>author_comment_karma</th>\n",
       "      <th>author_link_karma</th>\n",
       "      <th>time_in_mins</th>\n",
       "      <th>post_is_original_content</th>\n",
       "      <th>post_num_comments</th>\n",
       "      <th>post_over_18</th>\n",
       "      <th>post_score</th>\n",
       "      <th>post_has_link</th>\n",
       "      <th>post_spoiler</th>\n",
       "      <th>post_stickied</th>\n",
       "      <th>subreddit_subscriber_count</th>\n",
       "      <th>post_title</th>\n",
       "      <th>post_upvote_ratio</th>\n",
       "      <th>subreddit_display_name</th>\n",
       "      <th>target</th>\n",
       "      <th>title_length</th>\n",
       "    </tr>\n",
       "  </thead>\n",
       "  <tbody>\n",
       "    <tr>\n",
       "      <th>0</th>\n",
       "      <td>15541</td>\n",
       "      <td>60892</td>\n",
       "      <td>665</td>\n",
       "      <td>0</td>\n",
       "      <td>842</td>\n",
       "      <td>0</td>\n",
       "      <td>47197</td>\n",
       "      <td>0</td>\n",
       "      <td>0</td>\n",
       "      <td>0</td>\n",
       "      <td>2536337</td>\n",
       "      <td>Cops don't help</td>\n",
       "      <td>0.94</td>\n",
       "      <td>WhitePeopleTwitter</td>\n",
       "      <td>1</td>\n",
       "      <td>3</td>\n",
       "    </tr>\n",
       "    <tr>\n",
       "      <th>1</th>\n",
       "      <td>58678</td>\n",
       "      <td>6272</td>\n",
       "      <td>682</td>\n",
       "      <td>0</td>\n",
       "      <td>2007</td>\n",
       "      <td>0</td>\n",
       "      <td>20288</td>\n",
       "      <td>0</td>\n",
       "      <td>0</td>\n",
       "      <td>0</td>\n",
       "      <td>24719676</td>\n",
       "      <td>Uvalde school police chief identified as comma...</td>\n",
       "      <td>0.97</td>\n",
       "      <td>news</td>\n",
       "      <td>1</td>\n",
       "      <td>13</td>\n",
       "    </tr>\n",
       "    <tr>\n",
       "      <th>2</th>\n",
       "      <td>3302</td>\n",
       "      <td>6450</td>\n",
       "      <td>666</td>\n",
       "      <td>0</td>\n",
       "      <td>988</td>\n",
       "      <td>0</td>\n",
       "      <td>13857</td>\n",
       "      <td>0</td>\n",
       "      <td>0</td>\n",
       "      <td>0</td>\n",
       "      <td>21410219</td>\n",
       "      <td>Police didn't immediately confront the gunman ...</td>\n",
       "      <td>0.97</td>\n",
       "      <td>nottheonion</td>\n",
       "      <td>1</td>\n",
       "      <td>16</td>\n",
       "    </tr>\n",
       "    <tr>\n",
       "      <th>3</th>\n",
       "      <td>230</td>\n",
       "      <td>6754</td>\n",
       "      <td>748</td>\n",
       "      <td>0</td>\n",
       "      <td>555</td>\n",
       "      <td>0</td>\n",
       "      <td>20928</td>\n",
       "      <td>0</td>\n",
       "      <td>0</td>\n",
       "      <td>0</td>\n",
       "      <td>2315682</td>\n",
       "      <td>Customer is upset that a mattress store won’t…...</td>\n",
       "      <td>0.97</td>\n",
       "      <td>ChoosingBeggars</td>\n",
       "      <td>1</td>\n",
       "      <td>11</td>\n",
       "    </tr>\n",
       "    <tr>\n",
       "      <th>4</th>\n",
       "      <td>28965</td>\n",
       "      <td>6418</td>\n",
       "      <td>772</td>\n",
       "      <td>0</td>\n",
       "      <td>897</td>\n",
       "      <td>0</td>\n",
       "      <td>26027</td>\n",
       "      <td>0</td>\n",
       "      <td>0</td>\n",
       "      <td>0</td>\n",
       "      <td>1956757</td>\n",
       "      <td>Cops trying to join the movement.</td>\n",
       "      <td>0.95</td>\n",
       "      <td>antiwork</td>\n",
       "      <td>1</td>\n",
       "      <td>6</td>\n",
       "    </tr>\n",
       "  </tbody>\n",
       "</table>\n",
       "</div>"
      ],
      "text/plain": [
       "   author_comment_karma  author_link_karma  time_in_mins  \\\n",
       "0                 15541              60892           665   \n",
       "1                 58678               6272           682   \n",
       "2                  3302               6450           666   \n",
       "3                   230               6754           748   \n",
       "4                 28965               6418           772   \n",
       "\n",
       "   post_is_original_content  post_num_comments  post_over_18  post_score  \\\n",
       "0                         0                842             0       47197   \n",
       "1                         0               2007             0       20288   \n",
       "2                         0                988             0       13857   \n",
       "3                         0                555             0       20928   \n",
       "4                         0                897             0       26027   \n",
       "\n",
       "   post_has_link  post_spoiler  post_stickied  subreddit_subscriber_count  \\\n",
       "0              0             0              0                     2536337   \n",
       "1              0             0              0                    24719676   \n",
       "2              0             0              0                    21410219   \n",
       "3              0             0              0                     2315682   \n",
       "4              0             0              0                     1956757   \n",
       "\n",
       "                                          post_title  post_upvote_ratio  \\\n",
       "0                                    Cops don't help               0.94   \n",
       "1  Uvalde school police chief identified as comma...               0.97   \n",
       "2  Police didn't immediately confront the gunman ...               0.97   \n",
       "3  Customer is upset that a mattress store won’t…...               0.97   \n",
       "4                  Cops trying to join the movement.               0.95   \n",
       "\n",
       "  subreddit_display_name  target  title_length  \n",
       "0     WhitePeopleTwitter       1             3  \n",
       "1                   news       1            13  \n",
       "2            nottheonion       1            16  \n",
       "3        ChoosingBeggars       1            11  \n",
       "4               antiwork       1             6  "
      ]
     },
     "execution_count": 21,
     "metadata": {},
     "output_type": "execute_result"
    }
   ],
   "source": [
    "df.head()"
   ]
  },
  {
   "cell_type": "code",
   "execution_count": 22,
   "id": "46b4a862",
   "metadata": {},
   "outputs": [],
   "source": [
    "df.to_csv('Data/Data before preprocessing.csv')"
   ]
  },
  {
   "cell_type": "markdown",
   "id": "23350e58",
   "metadata": {},
   "source": [
    "## Preprocessing"
   ]
  },
  {
   "cell_type": "markdown",
   "id": "60f128d1",
   "metadata": {},
   "source": [
    "> Preprocessing codified in various functions"
   ]
  },
  {
   "cell_type": "code",
   "execution_count": 23,
   "id": "8a47d061",
   "metadata": {},
   "outputs": [],
   "source": [
    "# Function to remove noise from text and deal with negation\n",
    "def cleaning_data(comment):\n",
    "    \n",
    "    #Remove Non-ASCII characters\n",
    "    comment = re.sub(r\"\\xa0\",r\" \",comment)\n",
    "    comment = comment.encode(\"ascii\", errors=\"ignore\").decode()\n",
    "    \n",
    "    #Lower case the data\n",
    "    comment = comment.lower()\n",
    "    \n",
    "    #Remove HTML Links\n",
    "    comment = re.sub(r'\\w+:\\/{2}[\\d\\w-]+(\\.[\\d\\w-]+)*(?:(?:\\/[^\\s/]*))*', ' ', comment)   \n",
    "    comment = re.sub(r'\\n','',comment)\n",
    "    \n",
    "    #Cleaning the data by removing special characters\n",
    "    comment = re.sub(r\"[^A-Za-z0-9!?\\'\\`]\", \" \", comment)\n",
    "    \n",
    "     #Handling negations\n",
    "    comment = re.sub(r\"youtu.be\", \" youtube\", comment)\n",
    "    comment = re.sub(r\"https\", \" http\", comment)\n",
    "    comment = re.sub(r\"i'm\", \" i am\", comment)\n",
    "    comment = re.sub(r\"it's\", \" it is\", comment)\n",
    "    comment = re.sub(r\"ain't\", \"is not\",comment)\n",
    "    comment = re.sub(r\"aren't\", \"are not\",comment)\n",
    "    comment = re.sub(r\"couldn't\", \"could not\",comment)\n",
    "    comment = re.sub(r\"didnt\", \"did not\",comment)\n",
    "    comment = re.sub(r\"dont\", \"do not\",comment)\n",
    "    comment = re.sub(r\"doesn't\", \"does not\",comment)\n",
    "    comment = re.sub(r\"hadn't\", \"had not\",comment)\n",
    "    comment = re.sub(r\"hasn't\", \"has not\",comment)\n",
    "    comment = re.sub(r\"haven't\", \"have not\",comment)\n",
    "    comment = re.sub(r\"isn't\", \"is not\",comment)\n",
    "    comment = re.sub(r\"shouldn't\", \"should not\",comment)\n",
    "    comment = re.sub(r\"shan't\", \"shall not\",comment)\n",
    "    comment = re.sub(r\"wasn't\", \"was not\",comment)\n",
    "    comment = re.sub(r\"weren't\", \"were not\",comment)\n",
    "    comment = re.sub(r\"oughtn't\", \"ought not\",comment)\n",
    "    comment = re.sub(r\"that's\", \" that is\", comment)\n",
    "    comment = re.sub(r\"\\'s\", \" \", comment)\n",
    "    comment = re.sub(r\"\\'ve\", \" have\", comment)\n",
    "    comment = re.sub(r\"won't\", \" will not\", comment)\n",
    "    comment = re.sub(r\"wouldn't\", \" would not\", comment)\n",
    "    comment = re.sub(r\"don't\", \" do not\", comment)\n",
    "    comment = re.sub(r\"can't\", \" can not\", comment)\n",
    "    comment = re.sub(r\"cannot\", \" can not\", comment)\n",
    "    comment = re.sub(r\"n\\'t\", \" n\\'t\", comment)\n",
    "    comment = re.sub(r\"\\'re\", \" are\", comment)\n",
    "    comment = re.sub(r\"\\'d\", \" would\", comment)\n",
    "    comment = re.sub(r\"\\'ll\", \" will\", comment)    \n",
    "    comment = re.sub(r\"!\", \" ! \", comment)\n",
    "    comment = re.sub(r\"\\?\", \" ? \", comment)\n",
    "    comment = re.sub(r\"\\s{2,}\", \" \", comment)\n",
    "    \n",
    "    # Removing all the numbers\n",
    "    comment = re.sub(r'[0-9]+', ' ', comment)\n",
    "    \n",
    "    #Removing all puncs\n",
    "    comment = re.sub(r'[^\\w\\s]','',comment)\n",
    "    \n",
    "    # Substituting multiple spaces with single space\n",
    "    comment = re.sub(r'\\s+', ' ', comment, flags=re.I)\n",
    "    \n",
    "    # Remove single letters\n",
    "    comment= re.sub(r\"\\b[a-zA-Z]\\b\",\"\", comment)\n",
    "        \n",
    "    comment = [word for word in comment.split() if len(word) >= 2]\n",
    "    comment = ' '.join(comment)\n",
    "    \n",
    "    return comment\n",
    "  \n",
    "#Removing the stop words\n",
    "def stopwords_data(comment):\n",
    "    more_stop_words = [\"wa\", \"gt\",\"amp\", \"u\", \"ha\", \"le\", \"doe\", \"don\",'ve']\n",
    "    stop_words_ = stop_words.union(more_stop_words)\n",
    "    comment = [word for word in comment.split() if not word in stop_words_]\n",
    "    comment = ' '.join(comment)           \n",
    "    return comment\n",
    "  \n",
    "#Tag words by their parts of speech \n",
    "def get_wordnet_pos(word):\n",
    "    \"\"\"Map POS tag to first character lemmatize() accepts\"\"\"\n",
    "    tag = nltk.pos_tag([word])[0][1][0].upper()\n",
    "    tag_dict = {\"J\": wordnet.ADJ,\n",
    "                \"N\": wordnet.NOUN,\n",
    "                \"V\": wordnet.VERB,\n",
    "                \"R\": wordnet.ADV}\n",
    "\n",
    "    return tag_dict.get(tag, wordnet.NOUN)\n",
    "\n",
    "#Normalising the data by lemmatizing\n",
    "def lemmatize_data(comment):\n",
    "    comment = [lemmatizer.lemmatize(word,get_wordnet_pos(word)) for word in comment.split()]\n",
    "    comment = ' '.join(comment)\n",
    "    comment = [word for word in comment.split() if len(word) >= 3]\n",
    "    comment = ' '.join(comment)\n",
    "    return comment\n",
    "\n",
    "#Normalise data by user-defined stemming\n",
    "def stem(word):\n",
    "    for suffix in ['ing', 'ly', 'ed', 'ious', 'ies', 'ive', 'es', 's', 'ment']:\n",
    "        if word.endswith(suffix):\n",
    "            return word[:-len(suffix)]\n",
    "    return word\n",
    "\n",
    "def stemmer(phrase):\n",
    "    r=[]\n",
    "    for word in phrase.split():\n",
    "        r.append(stem(word))\n",
    "    return ' '.join(r)\n",
    "  \n",
    "#Normalising the data by renowned stemming methods\n",
    "\n",
    "stemmer=SnowballStemmer('english')\n",
    "def stem_data(comment):\n",
    "    comment = [stemmer.stem(word) for word in comment.split()]\n",
    "    comment = ' '.join(comment)\n",
    "    comment = [word for word in comment.split() if len(word) >= 3]\n",
    "    comment = ' '.join(comment)\n",
    "    return comment\n",
    "\n",
    "#list of cleaned words\n",
    "def cleandata(X_datatrain, X_datatest):\n",
    "    cleandata_Train = []\n",
    "    for sen in range(0, len(X_datatrain)): \n",
    "        cleandata_Train.append(preprocess_data(str(X_datatrain[sen])))\n",
    "        \n",
    "    cleandata_Test = []\n",
    "    for sen in range(0, len(X_datatest)): \n",
    "        cleandata_Test.append(preprocess_data(str(X_datatest[sen])))\n",
    "    return cleandata_Train, cleandata_Test"
   ]
  },
  {
   "cell_type": "code",
   "execution_count": 24,
   "id": "87abd638",
   "metadata": {},
   "outputs": [],
   "source": [
    "#Preprocessing the data\n",
    "def preprocess_data(review):\n",
    "    document = cleaning_data(review)\n",
    "    document = stopwords_data(document)\n",
    "    document = lemmatize_data(document)\n",
    "    document = stem_data(document)\n",
    "    \n",
    "    return document "
   ]
  },
  {
   "cell_type": "markdown",
   "id": "72fe01da",
   "metadata": {},
   "source": [
    "> Preprocessing applied on post_title"
   ]
  },
  {
   "cell_type": "code",
   "execution_count": 25,
   "id": "3233c69b",
   "metadata": {},
   "outputs": [
    {
     "name": "stdout",
     "output_type": "stream",
     "text": [
      "Cleaning of Training data on process...\n",
      "Task completed\n"
     ]
    }
   ],
   "source": [
    "print(\"Cleaning of Training data on process...\")\n",
    "df['post_title_processed'] = df['post_title'].apply(preprocess_data)\n",
    "print(\"Task completed\")"
   ]
  },
  {
   "cell_type": "markdown",
   "id": "c72dd96f",
   "metadata": {},
   "source": [
    "## Graphs"
   ]
  },
  {
   "cell_type": "markdown",
   "id": "02b41eed",
   "metadata": {},
   "source": [
    "### word length count"
   ]
  },
  {
   "cell_type": "code",
   "execution_count": 26,
   "id": "1bd57a8f",
   "metadata": {},
   "outputs": [
    {
     "name": "stderr",
     "output_type": "stream",
     "text": [
      "/usr/local/anaconda3/lib/python3.9/site-packages/seaborn/distributions.py:2619: FutureWarning: `distplot` is a deprecated function and will be removed in a future version. Please adapt your code to use either `displot` (a figure-level function with similar flexibility) or `histplot` (an axes-level function for histograms).\n",
      "  warnings.warn(msg, FutureWarning)\n"
     ]
    },
    {
     "data": {
      "image/png": "[encoded data removed]",
      "text/plain": [
       "<Figure size 720x432 with 1 Axes>"
      ]
     },
     "metadata": {},
     "output_type": "display_data"
    }
   ],
   "source": [
    "# Generating a list of text lengths\n",
    "\n",
    "lengths = [len(text.strip().split()) for text in df[\"post_title_processed\"]]\n",
    "\n",
    "# Plotting the text lengths\n",
    "\n",
    "plt.figure(figsize = (10,6), facecolor = \"white\")\n",
    "sns.distplot(lengths, kde = False, bins = 100, color = \"black\")\n",
    "plt.axvline(np.mean(lengths), color = \"red\")\n",
    "plt.title(\"Distribution Of Word Length Count\", size = 18)\n",
    "plt.xlabel(\"Words\", size = 16)\n",
    "plt.ylabel(\"Frequency\", size = 16)\n",
    "plt.xticks(np.arange(0,60,5), size = 14)\n",
    "plt.yticks(size = 14);\n",
    "\n",
    "# The red line marks the mean length"
   ]
  },
  {
   "cell_type": "markdown",
   "id": "c5e89e6e",
   "metadata": {},
   "source": [
    "### subreddit_count"
   ]
  },
  {
   "cell_type": "code",
   "execution_count": 27,
   "id": "7fba8f95",
   "metadata": {},
   "outputs": [
    {
     "data": {
      "text/html": [
       "<div>\n",
       "<style scoped>\n",
       "    .dataframe tbody tr th:only-of-type {\n",
       "        vertical-align: middle;\n",
       "    }\n",
       "\n",
       "    .dataframe tbody tr th {\n",
       "        vertical-align: top;\n",
       "    }\n",
       "\n",
       "    .dataframe thead th {\n",
       "        text-align: right;\n",
       "    }\n",
       "</style>\n",
       "<table border=\"1\" class=\"dataframe\">\n",
       "  <thead>\n",
       "    <tr style=\"text-align: right;\">\n",
       "      <th></th>\n",
       "      <th>subreddit_display_name</th>\n",
       "    </tr>\n",
       "  </thead>\n",
       "  <tbody>\n",
       "    <tr>\n",
       "      <th>WhitePeopleTwitter</th>\n",
       "      <td>25</td>\n",
       "    </tr>\n",
       "    <tr>\n",
       "      <th>memes</th>\n",
       "      <td>24</td>\n",
       "    </tr>\n",
       "    <tr>\n",
       "      <th>aww</th>\n",
       "      <td>23</td>\n",
       "    </tr>\n",
       "    <tr>\n",
       "      <th>worldnews</th>\n",
       "      <td>22</td>\n",
       "    </tr>\n",
       "    <tr>\n",
       "      <th>Superstonk</th>\n",
       "      <td>22</td>\n",
       "    </tr>\n",
       "    <tr>\n",
       "      <th>politics</th>\n",
       "      <td>22</td>\n",
       "    </tr>\n",
       "    <tr>\n",
       "      <th>interestingasfuck</th>\n",
       "      <td>22</td>\n",
       "    </tr>\n",
       "    <tr>\n",
       "      <th>gaming</th>\n",
       "      <td>21</td>\n",
       "    </tr>\n",
       "    <tr>\n",
       "      <th>formula1</th>\n",
       "      <td>21</td>\n",
       "    </tr>\n",
       "    <tr>\n",
       "      <th>MadeMeSmile</th>\n",
       "      <td>21</td>\n",
       "    </tr>\n",
       "  </tbody>\n",
       "</table>\n",
       "</div>"
      ],
      "text/plain": [
       "                    subreddit_display_name\n",
       "WhitePeopleTwitter                      25\n",
       "memes                                   24\n",
       "aww                                     23\n",
       "worldnews                               22\n",
       "Superstonk                              22\n",
       "politics                                22\n",
       "interestingasfuck                       22\n",
       "gaming                                  21\n",
       "formula1                                21\n",
       "MadeMeSmile                             21"
      ]
     },
     "execution_count": 27,
     "metadata": {},
     "output_type": "execute_result"
    }
   ],
   "source": [
    "subreddit_count = pd.DataFrame(df['subreddit_display_name'].value_counts().head(10))\n",
    "subreddit_count"
   ]
  },
  {
   "cell_type": "code",
   "execution_count": 28,
   "id": "ddc4e417",
   "metadata": {},
   "outputs": [
    {
     "data": {
      "image/png": "[encoded data removed]",
      "text/plain": [
       "<Figure size 1440x432 with 1 Axes>"
      ]
     },
     "metadata": {
      "needs_background": "light"
     },
     "output_type": "display_data"
    }
   ],
   "source": [
    "fig,ax=plt.subplots(figsize=(20,6))\n",
    "sns.barplot(y='subreddit_display_name', x=subreddit_count.index, data=subreddit_count);"
   ]
  },
  {
   "cell_type": "code",
   "execution_count": null,
   "id": "47b85292",
   "metadata": {},
   "outputs": [],
   "source": [
    "fig,ax=plt.subplots(figsize=(20,6))\n",
    "df['post_num_comments'].hist()"
   ]
  },
  {
   "cell_type": "markdown",
   "id": "69ac48e1",
   "metadata": {},
   "source": [
    "## What is the baseline accuracy ?"
   ]
  },
  {
   "cell_type": "code",
   "execution_count": 29,
   "id": "9ca1278e",
   "metadata": {},
   "outputs": [
    {
     "name": "stdout",
     "output_type": "stream",
     "text": [
      "The baseline accuracy is 0.5013688629311919\n"
     ]
    }
   ],
   "source": [
    "baseline = np.mean(df['target'])\n",
    "print(\"The baseline accuracy is\",baseline)"
   ]
  },
  {
   "cell_type": "markdown",
   "id": "54c467b8",
   "metadata": {},
   "source": [
    "## Creating dummies for subreddit_display_name\n",
    "**Resulting dataframe is df_subreddit_dummies**"
   ]
  },
  {
   "cell_type": "code",
   "execution_count": 30,
   "id": "ea6a1b51",
   "metadata": {},
   "outputs": [],
   "source": [
    "# dataframe with dummies for subreddit_display_names\n",
    "df_subreddit_dummies= pd.get_dummies(df,columns=['subreddit_display_name'],prefix='subreddit',drop_first=True)"
   ]
  },
  {
   "cell_type": "code",
   "execution_count": 31,
   "id": "e9e8e6fe",
   "metadata": {},
   "outputs": [
    {
     "data": {
      "text/html": [
       "<div>\n",
       "<style scoped>\n",
       "    .dataframe tbody tr th:only-of-type {\n",
       "        vertical-align: middle;\n",
       "    }\n",
       "\n",
       "    .dataframe tbody tr th {\n",
       "        vertical-align: top;\n",
       "    }\n",
       "\n",
       "    .dataframe thead th {\n",
       "        text-align: right;\n",
       "    }\n",
       "</style>\n",
       "<table border=\"1\" class=\"dataframe\">\n",
       "  <thead>\n",
       "    <tr style=\"text-align: right;\">\n",
       "      <th></th>\n",
       "      <th>author_comment_karma</th>\n",
       "      <th>author_link_karma</th>\n",
       "      <th>time_in_mins</th>\n",
       "      <th>post_is_original_content</th>\n",
       "      <th>post_num_comments</th>\n",
       "      <th>post_over_18</th>\n",
       "      <th>post_score</th>\n",
       "      <th>post_has_link</th>\n",
       "      <th>post_spoiler</th>\n",
       "      <th>post_stickied</th>\n",
       "      <th>...</th>\n",
       "      <th>subreddit_yeezys</th>\n",
       "      <th>subreddit_yesyesyesno</th>\n",
       "      <th>subreddit_yesyesyesyesno</th>\n",
       "      <th>subreddit_youdontsurf</th>\n",
       "      <th>subreddit_youngpeopleyoutube</th>\n",
       "      <th>subreddit_yourmomshousepodcast</th>\n",
       "      <th>subreddit_youtube</th>\n",
       "      <th>subreddit_youtubehaiku</th>\n",
       "      <th>subreddit_yugioh</th>\n",
       "      <th>subreddit_zelda</th>\n",
       "    </tr>\n",
       "  </thead>\n",
       "  <tbody>\n",
       "    <tr>\n",
       "      <th>0</th>\n",
       "      <td>15541</td>\n",
       "      <td>60892</td>\n",
       "      <td>665</td>\n",
       "      <td>0</td>\n",
       "      <td>842</td>\n",
       "      <td>0</td>\n",
       "      <td>47197</td>\n",
       "      <td>0</td>\n",
       "      <td>0</td>\n",
       "      <td>0</td>\n",
       "      <td>...</td>\n",
       "      <td>0</td>\n",
       "      <td>0</td>\n",
       "      <td>0</td>\n",
       "      <td>0</td>\n",
       "      <td>0</td>\n",
       "      <td>0</td>\n",
       "      <td>0</td>\n",
       "      <td>0</td>\n",
       "      <td>0</td>\n",
       "      <td>0</td>\n",
       "    </tr>\n",
       "    <tr>\n",
       "      <th>1</th>\n",
       "      <td>58678</td>\n",
       "      <td>6272</td>\n",
       "      <td>682</td>\n",
       "      <td>0</td>\n",
       "      <td>2007</td>\n",
       "      <td>0</td>\n",
       "      <td>20288</td>\n",
       "      <td>0</td>\n",
       "      <td>0</td>\n",
       "      <td>0</td>\n",
       "      <td>...</td>\n",
       "      <td>0</td>\n",
       "      <td>0</td>\n",
       "      <td>0</td>\n",
       "      <td>0</td>\n",
       "      <td>0</td>\n",
       "      <td>0</td>\n",
       "      <td>0</td>\n",
       "      <td>0</td>\n",
       "      <td>0</td>\n",
       "      <td>0</td>\n",
       "    </tr>\n",
       "    <tr>\n",
       "      <th>2</th>\n",
       "      <td>3302</td>\n",
       "      <td>6450</td>\n",
       "      <td>666</td>\n",
       "      <td>0</td>\n",
       "      <td>988</td>\n",
       "      <td>0</td>\n",
       "      <td>13857</td>\n",
       "      <td>0</td>\n",
       "      <td>0</td>\n",
       "      <td>0</td>\n",
       "      <td>...</td>\n",
       "      <td>0</td>\n",
       "      <td>0</td>\n",
       "      <td>0</td>\n",
       "      <td>0</td>\n",
       "      <td>0</td>\n",
       "      <td>0</td>\n",
       "      <td>0</td>\n",
       "      <td>0</td>\n",
       "      <td>0</td>\n",
       "      <td>0</td>\n",
       "    </tr>\n",
       "    <tr>\n",
       "      <th>3</th>\n",
       "      <td>230</td>\n",
       "      <td>6754</td>\n",
       "      <td>748</td>\n",
       "      <td>0</td>\n",
       "      <td>555</td>\n",
       "      <td>0</td>\n",
       "      <td>20928</td>\n",
       "      <td>0</td>\n",
       "      <td>0</td>\n",
       "      <td>0</td>\n",
       "      <td>...</td>\n",
       "      <td>0</td>\n",
       "      <td>0</td>\n",
       "      <td>0</td>\n",
       "      <td>0</td>\n",
       "      <td>0</td>\n",
       "      <td>0</td>\n",
       "      <td>0</td>\n",
       "      <td>0</td>\n",
       "      <td>0</td>\n",
       "      <td>0</td>\n",
       "    </tr>\n",
       "    <tr>\n",
       "      <th>4</th>\n",
       "      <td>28965</td>\n",
       "      <td>6418</td>\n",
       "      <td>772</td>\n",
       "      <td>0</td>\n",
       "      <td>897</td>\n",
       "      <td>0</td>\n",
       "      <td>26027</td>\n",
       "      <td>0</td>\n",
       "      <td>0</td>\n",
       "      <td>0</td>\n",
       "      <td>...</td>\n",
       "      <td>0</td>\n",
       "      <td>0</td>\n",
       "      <td>0</td>\n",
       "      <td>0</td>\n",
       "      <td>0</td>\n",
       "      <td>0</td>\n",
       "      <td>0</td>\n",
       "      <td>0</td>\n",
       "      <td>0</td>\n",
       "      <td>0</td>\n",
       "    </tr>\n",
       "  </tbody>\n",
       "</table>\n",
       "<p>5 rows × 2991 columns</p>\n",
       "</div>"
      ],
      "text/plain": [
       "   author_comment_karma  author_link_karma  time_in_mins  \\\n",
       "0                 15541              60892           665   \n",
       "1                 58678               6272           682   \n",
       "2                  3302               6450           666   \n",
       "3                   230               6754           748   \n",
       "4                 28965               6418           772   \n",
       "\n",
       "   post_is_original_content  post_num_comments  post_over_18  post_score  \\\n",
       "0                         0                842             0       47197   \n",
       "1                         0               2007             0       20288   \n",
       "2                         0                988             0       13857   \n",
       "3                         0                555             0       20928   \n",
       "4                         0                897             0       26027   \n",
       "\n",
       "   post_has_link  post_spoiler  post_stickied  ...  subreddit_yeezys  \\\n",
       "0              0             0              0  ...                 0   \n",
       "1              0             0              0  ...                 0   \n",
       "2              0             0              0  ...                 0   \n",
       "3              0             0              0  ...                 0   \n",
       "4              0             0              0  ...                 0   \n",
       "\n",
       "  subreddit_yesyesyesno  subreddit_yesyesyesyesno  subreddit_youdontsurf  \\\n",
       "0                     0                         0                      0   \n",
       "1                     0                         0                      0   \n",
       "2                     0                         0                      0   \n",
       "3                     0                         0                      0   \n",
       "4                     0                         0                      0   \n",
       "\n",
       "   subreddit_youngpeopleyoutube subreddit_yourmomshousepodcast  \\\n",
       "0                             0                              0   \n",
       "1                             0                              0   \n",
       "2                             0                              0   \n",
       "3                             0                              0   \n",
       "4                             0                              0   \n",
       "\n",
       "   subreddit_youtube  subreddit_youtubehaiku  subreddit_yugioh  \\\n",
       "0                  0                       0                 0   \n",
       "1                  0                       0                 0   \n",
       "2                  0                       0                 0   \n",
       "3                  0                       0                 0   \n",
       "4                  0                       0                 0   \n",
       "\n",
       "   subreddit_zelda  \n",
       "0                0  \n",
       "1                0  \n",
       "2                0  \n",
       "3                0  \n",
       "4                0  \n",
       "\n",
       "[5 rows x 2991 columns]"
      ]
     },
     "execution_count": 31,
     "metadata": {},
     "output_type": "execute_result"
    }
   ],
   "source": [
    "df_subreddit_dummies.head()"
   ]
  },
  {
   "cell_type": "markdown",
   "id": "5d8e3d2d",
   "metadata": {},
   "source": []
  },
  {
   "cell_type": "code",
   "execution_count": null,
   "id": "b39698c9",
   "metadata": {},
   "outputs": [],
   "source": []
  },
  {
   "cell_type": "markdown",
   "id": "cfc2b6e5",
   "metadata": {},
   "source": [
    "## CountVectorizer"
   ]
  },
  {
   "cell_type": "code",
   "execution_count": 32,
   "id": "84b3aa6d",
   "metadata": {},
   "outputs": [],
   "source": [
    "cvec = CountVectorizer(stop_words='english', max_features=100, max_df=0.5)\n",
    "cvec_X_data = cvec.fit_transform(df['post_title_processed'])\n",
    "cvec_X  = pd.DataFrame(cvec_X_data.todense(),\n",
    "                   columns=cvec.get_feature_names_out())"
   ]
  },
  {
   "cell_type": "code",
   "execution_count": 33,
   "id": "84f8f508",
   "metadata": {},
   "outputs": [
    {
     "data": {
      "text/html": [
       "<div>\n",
       "<style scoped>\n",
       "    .dataframe tbody tr th:only-of-type {\n",
       "        vertical-align: middle;\n",
       "    }\n",
       "\n",
       "    .dataframe tbody tr th {\n",
       "        vertical-align: top;\n",
       "    }\n",
       "\n",
       "    .dataframe thead th {\n",
       "        text-align: right;\n",
       "    }\n",
       "</style>\n",
       "<table border=\"1\" class=\"dataframe\">\n",
       "  <thead>\n",
       "    <tr style=\"text-align: right;\">\n",
       "      <th></th>\n",
       "      <th>actual</th>\n",
       "      <th>ago</th>\n",
       "      <th>alway</th>\n",
       "      <th>anim</th>\n",
       "      <th>anyon</th>\n",
       "      <th>art</th>\n",
       "      <th>ask</th>\n",
       "      <th>away</th>\n",
       "      <th>babi</th>\n",
       "      <th>bad</th>\n",
       "      <th>...</th>\n",
       "      <th>video</th>\n",
       "      <th>wait</th>\n",
       "      <th>want</th>\n",
       "      <th>war</th>\n",
       "      <th>way</th>\n",
       "      <th>week</th>\n",
       "      <th>woman</th>\n",
       "      <th>work</th>\n",
       "      <th>world</th>\n",
       "      <th>year</th>\n",
       "    </tr>\n",
       "  </thead>\n",
       "  <tbody>\n",
       "    <tr>\n",
       "      <th>0</th>\n",
       "      <td>0</td>\n",
       "      <td>0</td>\n",
       "      <td>0</td>\n",
       "      <td>0</td>\n",
       "      <td>0</td>\n",
       "      <td>0</td>\n",
       "      <td>0</td>\n",
       "      <td>0</td>\n",
       "      <td>0</td>\n",
       "      <td>0</td>\n",
       "      <td>...</td>\n",
       "      <td>0</td>\n",
       "      <td>0</td>\n",
       "      <td>0</td>\n",
       "      <td>0</td>\n",
       "      <td>0</td>\n",
       "      <td>0</td>\n",
       "      <td>0</td>\n",
       "      <td>0</td>\n",
       "      <td>0</td>\n",
       "      <td>0</td>\n",
       "    </tr>\n",
       "    <tr>\n",
       "      <th>1</th>\n",
       "      <td>0</td>\n",
       "      <td>0</td>\n",
       "      <td>0</td>\n",
       "      <td>0</td>\n",
       "      <td>0</td>\n",
       "      <td>0</td>\n",
       "      <td>0</td>\n",
       "      <td>0</td>\n",
       "      <td>0</td>\n",
       "      <td>0</td>\n",
       "      <td>...</td>\n",
       "      <td>0</td>\n",
       "      <td>0</td>\n",
       "      <td>0</td>\n",
       "      <td>0</td>\n",
       "      <td>0</td>\n",
       "      <td>0</td>\n",
       "      <td>0</td>\n",
       "      <td>0</td>\n",
       "      <td>0</td>\n",
       "      <td>0</td>\n",
       "    </tr>\n",
       "    <tr>\n",
       "      <th>2</th>\n",
       "      <td>0</td>\n",
       "      <td>0</td>\n",
       "      <td>0</td>\n",
       "      <td>0</td>\n",
       "      <td>0</td>\n",
       "      <td>0</td>\n",
       "      <td>0</td>\n",
       "      <td>0</td>\n",
       "      <td>0</td>\n",
       "      <td>0</td>\n",
       "      <td>...</td>\n",
       "      <td>0</td>\n",
       "      <td>0</td>\n",
       "      <td>0</td>\n",
       "      <td>0</td>\n",
       "      <td>0</td>\n",
       "      <td>0</td>\n",
       "      <td>0</td>\n",
       "      <td>0</td>\n",
       "      <td>0</td>\n",
       "      <td>0</td>\n",
       "    </tr>\n",
       "    <tr>\n",
       "      <th>3</th>\n",
       "      <td>0</td>\n",
       "      <td>0</td>\n",
       "      <td>0</td>\n",
       "      <td>0</td>\n",
       "      <td>0</td>\n",
       "      <td>0</td>\n",
       "      <td>0</td>\n",
       "      <td>0</td>\n",
       "      <td>0</td>\n",
       "      <td>0</td>\n",
       "      <td>...</td>\n",
       "      <td>0</td>\n",
       "      <td>0</td>\n",
       "      <td>0</td>\n",
       "      <td>0</td>\n",
       "      <td>0</td>\n",
       "      <td>0</td>\n",
       "      <td>0</td>\n",
       "      <td>0</td>\n",
       "      <td>0</td>\n",
       "      <td>0</td>\n",
       "    </tr>\n",
       "    <tr>\n",
       "      <th>4</th>\n",
       "      <td>0</td>\n",
       "      <td>0</td>\n",
       "      <td>0</td>\n",
       "      <td>0</td>\n",
       "      <td>0</td>\n",
       "      <td>0</td>\n",
       "      <td>0</td>\n",
       "      <td>0</td>\n",
       "      <td>0</td>\n",
       "      <td>0</td>\n",
       "      <td>...</td>\n",
       "      <td>0</td>\n",
       "      <td>0</td>\n",
       "      <td>0</td>\n",
       "      <td>0</td>\n",
       "      <td>0</td>\n",
       "      <td>0</td>\n",
       "      <td>0</td>\n",
       "      <td>0</td>\n",
       "      <td>0</td>\n",
       "      <td>0</td>\n",
       "    </tr>\n",
       "  </tbody>\n",
       "</table>\n",
       "<p>5 rows × 100 columns</p>\n",
       "</div>"
      ],
      "text/plain": [
       "   actual  ago  alway  anim  anyon  art  ask  away  babi  bad  ...  video  \\\n",
       "0       0    0      0     0      0    0    0     0     0    0  ...      0   \n",
       "1       0    0      0     0      0    0    0     0     0    0  ...      0   \n",
       "2       0    0      0     0      0    0    0     0     0    0  ...      0   \n",
       "3       0    0      0     0      0    0    0     0     0    0  ...      0   \n",
       "4       0    0      0     0      0    0    0     0     0    0  ...      0   \n",
       "\n",
       "   wait  want  war  way  week  woman  work  world  year  \n",
       "0     0     0    0    0     0      0     0      0     0  \n",
       "1     0     0    0    0     0      0     0      0     0  \n",
       "2     0     0    0    0     0      0     0      0     0  \n",
       "3     0     0    0    0     0      0     0      0     0  \n",
       "4     0     0    0    0     0      0     0      0     0  \n",
       "\n",
       "[5 rows x 100 columns]"
      ]
     },
     "execution_count": 33,
     "metadata": {},
     "output_type": "execute_result"
    }
   ],
   "source": [
    "cvec_X.head()"
   ]
  },
  {
   "cell_type": "code",
   "execution_count": 34,
   "id": "1c9a5dff",
   "metadata": {},
   "outputs": [
    {
     "data": {
      "text/plain": [
       "Index(['actual', 'ago', 'alway', 'anim', 'anyon', 'art', 'ask', 'away', 'babi',\n",
       "       'bad', 'best', 'big', 'boy', 'cat', 'chang', 'child', 'come', 'cosplay',\n",
       "       'day', 'dog', 'end', 'everi', 'fan', 'favorit', 'feel', 'final',\n",
       "       'friend', 'fuck', 'game', 'girl', 'good', 'great', 'gun', 'guy', 'hand',\n",
       "       'happi', 'hate', 'help', 'home', 'hope', 'hous', 'kid', 'kill', 'know',\n",
       "       'let', 'life', 'like', 'littl', 'live', 'long', 'look', 'lose', 'love',\n",
       "       'make', 'man', 'meme', 'mom', 'month', 'need', 'new', 'night', 'old',\n",
       "       'peopl', 'photo', 'play', 'pleas', 'polic', 'post', 'real', 'realli',\n",
       "       'right', 'run', 'say', 'school', 'shoot', 'someon', 'someth', 'star',\n",
       "       'start', 'stop', 'tell', 'thank', 'thing', 'think', 'thought', 'time',\n",
       "       'today', 'tri', 'turn', 'use', 'video', 'wait', 'want', 'war', 'way',\n",
       "       'week', 'woman', 'work', 'world', 'year'],\n",
       "      dtype='object')"
      ]
     },
     "execution_count": 34,
     "metadata": {},
     "output_type": "execute_result"
    }
   ],
   "source": [
    "cvec_X.columns"
   ]
  },
  {
   "cell_type": "markdown",
   "id": "db5e0694",
   "metadata": {},
   "source": [
    ">**Deleting post_title and post_title_processed columns**"
   ]
  },
  {
   "cell_type": "code",
   "execution_count": 35,
   "id": "0699b1dd",
   "metadata": {},
   "outputs": [],
   "source": [
    "df_subreddit_dummies.drop(columns=['post_title', 'post_title_processed','post_num_comments'],inplace=True)"
   ]
  },
  {
   "cell_type": "markdown",
   "id": "b1841304",
   "metadata": {},
   "source": [
    "## Concatenating countvectorised dataframe with subreddit dummies"
   ]
  },
  {
   "cell_type": "code",
   "execution_count": 36,
   "id": "c41cf382",
   "metadata": {},
   "outputs": [
    {
     "data": {
      "text/html": [
       "<div>\n",
       "<style scoped>\n",
       "    .dataframe tbody tr th:only-of-type {\n",
       "        vertical-align: middle;\n",
       "    }\n",
       "\n",
       "    .dataframe tbody tr th {\n",
       "        vertical-align: top;\n",
       "    }\n",
       "\n",
       "    .dataframe thead th {\n",
       "        text-align: right;\n",
       "    }\n",
       "</style>\n",
       "<table border=\"1\" class=\"dataframe\">\n",
       "  <thead>\n",
       "    <tr style=\"text-align: right;\">\n",
       "      <th></th>\n",
       "      <th>author_comment_karma</th>\n",
       "      <th>author_link_karma</th>\n",
       "      <th>time_in_mins</th>\n",
       "      <th>post_is_original_content</th>\n",
       "      <th>post_over_18</th>\n",
       "      <th>post_score</th>\n",
       "      <th>post_has_link</th>\n",
       "      <th>post_spoiler</th>\n",
       "      <th>post_stickied</th>\n",
       "      <th>subreddit_subscriber_count</th>\n",
       "      <th>...</th>\n",
       "      <th>video</th>\n",
       "      <th>wait</th>\n",
       "      <th>want</th>\n",
       "      <th>war</th>\n",
       "      <th>way</th>\n",
       "      <th>week</th>\n",
       "      <th>woman</th>\n",
       "      <th>work</th>\n",
       "      <th>world</th>\n",
       "      <th>year</th>\n",
       "    </tr>\n",
       "  </thead>\n",
       "  <tbody>\n",
       "    <tr>\n",
       "      <th>0</th>\n",
       "      <td>15541</td>\n",
       "      <td>60892</td>\n",
       "      <td>665</td>\n",
       "      <td>0</td>\n",
       "      <td>0</td>\n",
       "      <td>47197</td>\n",
       "      <td>0</td>\n",
       "      <td>0</td>\n",
       "      <td>0</td>\n",
       "      <td>2536337</td>\n",
       "      <td>...</td>\n",
       "      <td>0</td>\n",
       "      <td>0</td>\n",
       "      <td>0</td>\n",
       "      <td>0</td>\n",
       "      <td>0</td>\n",
       "      <td>0</td>\n",
       "      <td>0</td>\n",
       "      <td>0</td>\n",
       "      <td>0</td>\n",
       "      <td>0</td>\n",
       "    </tr>\n",
       "    <tr>\n",
       "      <th>1</th>\n",
       "      <td>58678</td>\n",
       "      <td>6272</td>\n",
       "      <td>682</td>\n",
       "      <td>0</td>\n",
       "      <td>0</td>\n",
       "      <td>20288</td>\n",
       "      <td>0</td>\n",
       "      <td>0</td>\n",
       "      <td>0</td>\n",
       "      <td>24719676</td>\n",
       "      <td>...</td>\n",
       "      <td>0</td>\n",
       "      <td>0</td>\n",
       "      <td>0</td>\n",
       "      <td>0</td>\n",
       "      <td>0</td>\n",
       "      <td>0</td>\n",
       "      <td>0</td>\n",
       "      <td>0</td>\n",
       "      <td>0</td>\n",
       "      <td>0</td>\n",
       "    </tr>\n",
       "    <tr>\n",
       "      <th>2</th>\n",
       "      <td>3302</td>\n",
       "      <td>6450</td>\n",
       "      <td>666</td>\n",
       "      <td>0</td>\n",
       "      <td>0</td>\n",
       "      <td>13857</td>\n",
       "      <td>0</td>\n",
       "      <td>0</td>\n",
       "      <td>0</td>\n",
       "      <td>21410219</td>\n",
       "      <td>...</td>\n",
       "      <td>0</td>\n",
       "      <td>0</td>\n",
       "      <td>0</td>\n",
       "      <td>0</td>\n",
       "      <td>0</td>\n",
       "      <td>0</td>\n",
       "      <td>0</td>\n",
       "      <td>0</td>\n",
       "      <td>0</td>\n",
       "      <td>0</td>\n",
       "    </tr>\n",
       "    <tr>\n",
       "      <th>3</th>\n",
       "      <td>230</td>\n",
       "      <td>6754</td>\n",
       "      <td>748</td>\n",
       "      <td>0</td>\n",
       "      <td>0</td>\n",
       "      <td>20928</td>\n",
       "      <td>0</td>\n",
       "      <td>0</td>\n",
       "      <td>0</td>\n",
       "      <td>2315682</td>\n",
       "      <td>...</td>\n",
       "      <td>0</td>\n",
       "      <td>0</td>\n",
       "      <td>0</td>\n",
       "      <td>0</td>\n",
       "      <td>0</td>\n",
       "      <td>0</td>\n",
       "      <td>0</td>\n",
       "      <td>0</td>\n",
       "      <td>0</td>\n",
       "      <td>0</td>\n",
       "    </tr>\n",
       "    <tr>\n",
       "      <th>4</th>\n",
       "      <td>28965</td>\n",
       "      <td>6418</td>\n",
       "      <td>772</td>\n",
       "      <td>0</td>\n",
       "      <td>0</td>\n",
       "      <td>26027</td>\n",
       "      <td>0</td>\n",
       "      <td>0</td>\n",
       "      <td>0</td>\n",
       "      <td>1956757</td>\n",
       "      <td>...</td>\n",
       "      <td>0</td>\n",
       "      <td>0</td>\n",
       "      <td>0</td>\n",
       "      <td>0</td>\n",
       "      <td>0</td>\n",
       "      <td>0</td>\n",
       "      <td>0</td>\n",
       "      <td>0</td>\n",
       "      <td>0</td>\n",
       "      <td>0</td>\n",
       "    </tr>\n",
       "  </tbody>\n",
       "</table>\n",
       "<p>5 rows × 3088 columns</p>\n",
       "</div>"
      ],
      "text/plain": [
       "   author_comment_karma  author_link_karma  time_in_mins  \\\n",
       "0                 15541              60892           665   \n",
       "1                 58678               6272           682   \n",
       "2                  3302               6450           666   \n",
       "3                   230               6754           748   \n",
       "4                 28965               6418           772   \n",
       "\n",
       "   post_is_original_content  post_over_18  post_score  post_has_link  \\\n",
       "0                         0             0       47197              0   \n",
       "1                         0             0       20288              0   \n",
       "2                         0             0       13857              0   \n",
       "3                         0             0       20928              0   \n",
       "4                         0             0       26027              0   \n",
       "\n",
       "   post_spoiler  post_stickied  subreddit_subscriber_count  ...  video  wait  \\\n",
       "0             0              0                     2536337  ...      0     0   \n",
       "1             0              0                    24719676  ...      0     0   \n",
       "2             0              0                    21410219  ...      0     0   \n",
       "3             0              0                     2315682  ...      0     0   \n",
       "4             0              0                     1956757  ...      0     0   \n",
       "\n",
       "   want  war  way  week  woman  work  world  year  \n",
       "0     0    0    0     0      0     0      0     0  \n",
       "1     0    0    0     0      0     0      0     0  \n",
       "2     0    0    0     0      0     0      0     0  \n",
       "3     0    0    0     0      0     0      0     0  \n",
       "4     0    0    0     0      0     0      0     0  \n",
       "\n",
       "[5 rows x 3088 columns]"
      ]
     },
     "execution_count": 36,
     "metadata": {},
     "output_type": "execute_result"
    }
   ],
   "source": [
    "df_subreddit_cvec=pd.concat([df_subreddit_dummies,cvec_X], axis=1)\n",
    "df_subreddit_cvec.shape\n",
    "df_subreddit_cvec.head()"
   ]
  },
  {
   "cell_type": "code",
   "execution_count": 37,
   "id": "307932f8",
   "metadata": {},
   "outputs": [],
   "source": [
    "df_subreddit_cvec.to_csv('Data/Subreddit dummies with countvector.csv')"
   ]
  },
  {
   "cell_type": "markdown",
   "id": "fd35be65",
   "metadata": {},
   "source": [
    "## **Functions for models**"
   ]
  },
  {
   "cell_type": "code",
   "execution_count": 107,
   "id": "e3c54942",
   "metadata": {},
   "outputs": [],
   "source": [
    "def rfscore1(df, target_col, test_size, n_estimators, max_depth):\n",
    "    '''For individual parameters without gridsearching'''  \n",
    "    X = df.drop(target_col, axis=1)   # define predictors\n",
    "    y = df[target_col]                # defines target\n",
    "    \n",
    "    X_train, X_test, y_train, y_test = train_test_split(X, \n",
    "                                                        y, test_size = test_size, random_state=42) # train/test split\n",
    "\n",
    "    rf = RandomForestClassifier(max_depth = max_depth, n_estimators = n_estimators)    #instantiates model\n",
    "\n",
    "    rf.fit(X_train,y_train)      # fit the model to the training data\n",
    "    \n",
    "    # .score returns the mean accuracy on the test data\n",
    "    \n",
    "    print(\"The mean accuracy score is:\",round(rf.score(X_test,y_test),2))\n",
    "    preds = rf.predict(X_test)\n",
    "    print(\"\")\n",
    "    print(\"Confusion Matrix:\\n\")\n",
    "    print(pd.crosstab(pd.concat([X_test,y_test],axis=1)['target'], preds, rownames=['Actual Values'], colnames=['Predicted Values']))\n",
    "    print('Features and their importance:\\n')\n",
    "    feature_importances = pd.Series(rf.feature_importances_, index=X.columns).sort_values().tail(10)\n",
    "    print(feature_importances.plot(kind=\"barh\", figsize=(6,6)))\n",
    "    return \n",
    "\n"
   ]
  },
  {
   "cell_type": "code",
   "execution_count": 133,
   "id": "ac783873",
   "metadata": {},
   "outputs": [],
   "source": [
    "def rfscore2(df,target_col,test_size,n_estimators,max_depth):\n",
    "    '''Gridsearching RandomForest'''\n",
    "    X = df.drop(target_col, axis=1)   # predictors\n",
    "    y = df[target_col]                # target\n",
    "    \n",
    "    X_train, X_test, y_train, y_test = train_test_split(X, \n",
    "                                                        y, test_size = test_size, random_state=42) # TT split\n",
    "    rf_params = {\n",
    "             'n_estimators':n_estimators,\n",
    "             'max_depth':max_depth}   # parameters for grid search\n",
    "    rf_gs = GridSearchCV(RandomForestClassifier(), rf_params, cv=5, verbose=1, n_jobs=-1)\n",
    "    rf_gs.fit(X_train,y_train) # training the random forest with all possible parameters\n",
    "    print('GridSearch results')\n",
    "    print('The best parameters on the training data are:\\n',rf_gs.best_params_) # printing the best parameters\n",
    "    max_depth_best = rf_gs.best_params_['max_depth']      # getting the best max_depth\n",
    "    n_estimators_best = rf_gs.best_params_['n_estimators']  # getting the best n_estimators\n",
    "    print(\"best max_depth:\",max_depth_best)\n",
    "    print(\"best n_estimators:\",n_estimators_best)\n",
    "    best_rf_gs = RandomForestClassifier(max_depth=max_depth_best,n_estimators=n_estimators_best) # instantiate the best model\n",
    "    \n",
    "    score(best_rf_gs, 'Random Forest', X_train, y_train)\n",
    "    \n",
    "    best_rf_gs.fit(X_train,y_train)  # fitting the best model\n",
    "#     best_rf_score = best_rf_gs.score(X_test,y_test) \n",
    "#     print (\"best score is:\",round(best_rf_score,2))\n",
    "    preds = best_rf_gs.predict(X_test)\n",
    "    print(\"\")\n",
    "    \n",
    "    print(\"Confusion Matrix:\\n\")\n",
    "    print(confusion_matrix(y_test,preds))\n",
    "    print(classification_report(y_test,preds))\n",
    "    print(accuracy_score(y_test, preds))\n",
    "\n",
    "    \n",
    "#     print(\"Confusion Matrix:\\n\")\n",
    "#     print(pd.crosstab(pd.concat([X_test,y_test],axis=1)['target'], preds, rownames=['Actual Values'], colnames=['Predicted Values']))\n",
    "    print('Features and their importance:\\n')\n",
    "    feature_importances = pd.Series(best_rf_gs.feature_importances_, index=X.columns).sort_values().tail(10)\n",
    "    print(feature_importances.plot(kind=\"barh\", figsize=(6,6)))\n",
    "    return "
   ]
  },
  {
   "cell_type": "code",
   "execution_count": 130,
   "id": "e7099f5f",
   "metadata": {},
   "outputs": [],
   "source": [
    "def score(model, name, X, y):\n",
    "    cv = StratifiedKFold(n_splits=10,\n",
    "                         random_state=42,\n",
    "                         shuffle=True)\n",
    "    s = cross_val_score(model, X, y, cv=cv,\n",
    "                        n_jobs=-1)\n",
    "    print('{} Score: {:.2f} +- {:.3f}'.format(name, \n",
    "                                              s.mean(), \n",
    "                                              2 * s.std()))\n"
   ]
  },
  {
   "cell_type": "code",
   "execution_count": 109,
   "id": "ddcdb2b6",
   "metadata": {},
   "outputs": [],
   "source": [
    "def knnscore_gridsearch(df, target_col, test_size):\n",
    "    '''Gridsearching for KNeighbors Classifier'''\n",
    "    X = df.drop(target_col, axis=1)\n",
    "    y = df[target_col]\n",
    "    ss= StandardScaler()\n",
    "    X_train, X_test, y_train, y_test = train_test_split(X, \n",
    "                                                        y, test_size = test_size, random_state=42) # train/test split\n",
    "    knn_params= {'n_neighbors': list(range(1, 30, 2)), 'p':[1,2]}\n",
    "    X_train_sc=ss.fit_transform(X_train)\n",
    "    X_test_sc= ss.transform(X_test)\n",
    "    knn_gs = GridSearchCV(KNeighborsClassifier(),knn_params, cv=5, verbose=1,n_jobs=-1)\n",
    "    knn_gs.fit(X_train_sc, y_train)\n",
    "    print('GridSearch results')\n",
    "    print('The best parameters on the training data are:\\n') # printing the best parameters\n",
    "    n_neighbors_best = knn_gs.best_params_['n_neighbors']      # getting the best n_neighbors\n",
    "    p_best = knn_gs.best_params_['p'] # printing best p\n",
    "    print(\"best n_neighbors:\",n_neighbors_best)\n",
    "    print(\"best p:\", p_best)\n",
    "    \n",
    "    best_knn_gs = KNeighborsClassifier(n_neighbors=n_neighbors_best,p=p_best) # instantiate the best model\n",
    "    best_knn_gs.fit(X_train_sc,y_train)  # fitting the best model\n",
    "    best_knn_score = best_knn_gs.score(X_test_sc,y_test) \n",
    "    print (\"best score is:\",round(best_knn_score,2))\n",
    "    \n",
    "    preds = best_knn_gs.predict(X_test_sc)\n",
    "    print(\"\")\n",
    "\n",
    "\n",
    "    disp = plot_confusion_matrix(best_knn_gs, X_test_sc, y_test)\n",
    "    disp.figure_.suptitle(\"Confusion Matrix\")\n",
    "    print(\"Confusion matrix:\\n%s\" % disp.confusion_matrix)\n",
    "    plt.show();\n"
   ]
  },
  {
   "cell_type": "markdown",
   "id": "1c7b7aa5",
   "metadata": {},
   "source": [
    "> **Model 1**: Random Forest Classifier on Count Vectorised data + subreddit dummies"
   ]
  },
  {
   "cell_type": "code",
   "execution_count": 110,
   "id": "ee56d8a8",
   "metadata": {},
   "outputs": [
    {
     "name": "stdout",
     "output_type": "stream",
     "text": [
      "The mean accuracy score is: 0.76\n",
      "\n",
      "Confusion Matrix:\n",
      "\n",
      "Predicted Values     0     1\n",
      "Actual Values               \n",
      "0                 1066   302\n",
      "1                  346  1026\n",
      "Features and their importance:\n",
      "\n",
      "AxesSubplot(0.125,0.125;0.775x0.755)\n"
     ]
    },
    {
     "data": {
      "image/png": "[encoded data removed]",
      "text/plain": [
       "<Figure size 432x432 with 1 Axes>"
      ]
     },
     "metadata": {
      "needs_background": "light"
     },
     "output_type": "display_data"
    }
   ],
   "source": [
    "rfscore1(df_subreddit_cvec,'target',0.25,25,10)\n"
   ]
  },
  {
   "cell_type": "markdown",
   "id": "01793ffe",
   "metadata": {},
   "source": [
    "> **Model 2** Gridsearch with random Forest Classifier"
   ]
  },
  {
   "cell_type": "code",
   "execution_count": 134,
   "id": "07a77f34",
   "metadata": {},
   "outputs": [
    {
     "name": "stdout",
     "output_type": "stream",
     "text": [
      "Fitting 5 folds for each of 288 candidates, totalling 1440 fits\n",
      "GridSearch results\n",
      "The best parameters on the training data are:\n",
      " {'max_depth': 23, 'n_estimators': 110}\n",
      "best max_depth: 23\n",
      "best n_estimators: 110\n",
      "Random Forest Score: 0.78 +- 0.036\n",
      "\n",
      "Confusion Matrix:\n",
      "\n",
      "[[1078  290]\n",
      " [ 298 1074]]\n",
      "              precision    recall  f1-score   support\n",
      "\n",
      "           0       0.78      0.79      0.79      1368\n",
      "           1       0.79      0.78      0.79      1372\n",
      "\n",
      "    accuracy                           0.79      2740\n",
      "   macro avg       0.79      0.79      0.79      2740\n",
      "weighted avg       0.79      0.79      0.79      2740\n",
      "\n",
      "0.7854014598540145\n",
      "Features and their importance:\n",
      "\n",
      "AxesSubplot(0.125,0.125;0.775x0.755)\n"
     ]
    },
    {
     "data": {
      "image/png": "[encoded data removed]",
      "text/plain": [
       "<Figure size 432x432 with 1 Axes>"
      ]
     },
     "metadata": {
      "needs_background": "light"
     },
     "output_type": "display_data"
    }
   ],
   "source": [
    "# Defining ranges for the hyperparameters to be scanned by the grid search\n",
    "n_estimators = list(range(10,250,10))\n",
    "max_depth = list(range(1, 25, 2)) \n",
    "rfscore2(df_subreddit_cvec,'target',0.25,n_estimators,max_depth)"
   ]
  },
  {
   "cell_type": "markdown",
   "id": "7c542f3c",
   "metadata": {},
   "source": [
    "> **Model 3**: KNN Gridsearch"
   ]
  },
  {
   "cell_type": "markdown",
   "id": "b9a38dde",
   "metadata": {},
   "source": [
    "**Can run knn gridsearch on small datasets but not for 10000+ datapoints. My machine is unable to take the load.**"
   ]
  },
  {
   "cell_type": "code",
   "execution_count": 84,
   "id": "5ad2f2c9",
   "metadata": {},
   "outputs": [
    {
     "name": "stdout",
     "output_type": "stream",
     "text": [
      "Fitting 5 folds for each of 30 candidates, totalling 150 fits\n",
      "GridSearch results\n",
      "The best parameters on the training data are:\n",
      "\n",
      "best n_neighbors: 5\n",
      "best p: 2\n",
      "best score is: 0.86\n",
      "\n",
      "Confusion matrix:\n",
      "[[  0  17]\n",
      " [  0 108]]\n"
     ]
    },
    {
     "name": "stderr",
     "output_type": "stream",
     "text": [
      "/usr/local/anaconda3/lib/python3.9/site-packages/sklearn/utils/deprecation.py:87: FutureWarning: Function plot_confusion_matrix is deprecated; Function `plot_confusion_matrix` is deprecated in 1.0 and will be removed in 1.2. Use one of the class methods: ConfusionMatrixDisplay.from_predictions or ConfusionMatrixDisplay.from_estimator.\n",
      "  warnings.warn(msg, category=FutureWarning)\n"
     ]
    },
    {
     "data": {
      "image/png": "[encoded data removed]",
      "text/plain": [
       "<Figure size 432x288 with 2 Axes>"
      ]
     },
     "metadata": {
      "needs_background": "light"
     },
     "output_type": "display_data"
    }
   ],
   "source": [
    "knnscore_gridsearch(df_subreddit_cvec[:500],'target',0.25)"
   ]
  },
  {
   "cell_type": "markdown",
   "id": "8807d4eb",
   "metadata": {},
   "source": [
    "> **Model 4**-KNeighborsClassifier without gridsearch"
   ]
  },
  {
   "cell_type": "code",
   "execution_count": 87,
   "id": "7fb003e9",
   "metadata": {},
   "outputs": [
    {
     "name": "stdout",
     "output_type": "stream",
     "text": [
      "KNN Score for Countvectorizer: 0.68 ± 0.02\n"
     ]
    }
   ],
   "source": [
    "kf = KFold(n_splits=5, shuffle=True,random_state=42)\n",
    "knn = KNeighborsClassifier(n_neighbors=19, p=2)\n",
    "print(\"KNN Score for Countvectorizer: %0.2f ± %0.2f\" % (cross_val_score(knn,df_subreddit_cvec.drop('target', axis=1),df['target'],cv=kf).mean(),\n",
    "                                                           cross_val_score(knn,df_subreddit_cvec.drop('target', axis=1),df['target'],cv=kf).std() * 2))"
   ]
  },
  {
   "cell_type": "code",
   "execution_count": 88,
   "id": "63977226",
   "metadata": {},
   "outputs": [
    {
     "name": "stdout",
     "output_type": "stream",
     "text": [
      "KNN Score for Countvectorizer: 0.68 ± 0.02\n"
     ]
    }
   ],
   "source": [
    "knn = KNeighborsClassifier(n_neighbors=22, p=2)\n",
    "print(\"KNN Score for Countvectorizer: %0.2f ± %0.2f\" % (cross_val_score(knn,df_subreddit_cvec.drop('target', axis=1),df['target'],cv=kf).mean(),\n",
    "                                                           cross_val_score(knn,df_subreddit_cvec.drop('target', axis=1),df['target'],cv=kf).std() * 2))"
   ]
  },
  {
   "cell_type": "code",
   "execution_count": 89,
   "id": "954df496",
   "metadata": {},
   "outputs": [
    {
     "name": "stdout",
     "output_type": "stream",
     "text": [
      "KNN Score for Countvectorizer: 0.68 ± 0.02\n"
     ]
    }
   ],
   "source": [
    "knn = KNeighborsClassifier(n_neighbors=27, p=2)\n",
    "print(\"KNN Score for Countvectorizer: %0.2f ± %0.2f\" % (cross_val_score(knn,df_subreddit_cvec.drop('target', axis=1),df['target'],cv=kf).mean(),\n",
    "                                                           cross_val_score(knn,df_subreddit_cvec.drop('target', axis=1),df['target'],cv=kf).std() * 2))"
   ]
  },
  {
   "cell_type": "markdown",
   "id": "c7e576d9",
   "metadata": {},
   "source": [
    "> **Model 5**-Logistic regression"
   ]
  },
  {
   "cell_type": "code",
   "execution_count": 86,
   "id": "c0dabfa8",
   "metadata": {},
   "outputs": [
    {
     "name": "stdout",
     "output_type": "stream",
     "text": [
      "Logreg Score for Countvectorizer: 0.73 ± 0.02\n"
     ]
    }
   ],
   "source": [
    "kf = KFold(n_splits=5, shuffle=True,random_state=42)\n",
    "logreg = LogisticRegression(random_state=42)\n",
    "print(\"Logreg Score for Countvectorizer: %0.2f ± %0.2f\" % (cross_val_score(logreg,df_subreddit_cvec.drop('target', axis=1),df['target'],cv=kf).mean(),\n",
    "                                                           cross_val_score(logreg,df_subreddit_cvec.drop('target', axis=1),df['target'],cv=kf).std() * 2))"
   ]
  },
  {
   "cell_type": "markdown",
   "id": "fde02794",
   "metadata": {},
   "source": [
    "> **Model 6**: Using Ensemble methods"
   ]
  },
  {
   "cell_type": "code",
   "execution_count": 92,
   "id": "a055bd2f",
   "metadata": {},
   "outputs": [
    {
     "name": "stdout",
     "output_type": "stream",
     "text": [
      "DT: 0.75 +/- 0.02\n",
      "Bagging: 0.79 +/- 0.03\n"
     ]
    }
   ],
   "source": [
    "from sklearn.ensemble import BaggingClassifier\n",
    "from sklearn.tree import DecisionTreeClassifier\n",
    "\n",
    "cv_kf = KFold(n_splits=10,\n",
    "              shuffle=True,\n",
    "              random_state=30113)\n",
    "\n",
    "clf = DecisionTreeClassifier(random_state=42)\n",
    "bagger = BaggingClassifier(clf, random_state=42)\n",
    "\n",
    "base_scores_1 = cross_val_score(clf, df_subreddit_cvec.drop('target', axis=1),df['target'], cv=cv_kf)\n",
    "ensemble_scores_1 = cross_val_score(bagger, df_subreddit_cvec.drop('target', axis=1),df['target'], cv=cv_kf)\n",
    "\n",
    "print(\"DT: {:.2f} +/- {:.2f}\".format(base_scores_1.mean(), \n",
    "                                     2 * base_scores_1.std()))\n",
    "print(\"Bagging: {:.2f} +/- {:.2f}\".format(ensemble_scores_1.mean(), \n",
    "                                          2 * ensemble_scores_1.std()))"
   ]
  },
  {
   "cell_type": "markdown",
   "id": "e76f9a47",
   "metadata": {},
   "source": [
    ">**Model 7**: Decision Stump"
   ]
  },
  {
   "cell_type": "code",
   "execution_count": 94,
   "id": "695b81fe",
   "metadata": {},
   "outputs": [
    {
     "name": "stdout",
     "output_type": "stream",
     "text": [
      "Bagging: 0.73 +/- 0.04\n"
     ]
    }
   ],
   "source": [
    "clf2 = DecisionTreeClassifier(max_depth=1,\n",
    "                              random_state=42)\n",
    "bagger = BaggingClassifier(clf2, \n",
    "                           random_state=42)\n",
    "\n",
    "ensemble_scores = cross_val_score(bagger, df_subreddit_cvec.drop('target', axis=1),df['target'], cv=cv_kf)\n",
    "print(\"Bagging: {:.2f} +/- {:.2f}\".format(ensemble_scores.mean(),\n",
    "                                          2 * ensemble_scores.std()))"
   ]
  },
  {
   "cell_type": "markdown",
   "id": "c30de006",
   "metadata": {},
   "source": [
    "## TfidfVectorizer()"
   ]
  },
  {
   "cell_type": "code",
   "execution_count": 96,
   "id": "fecd750b",
   "metadata": {},
   "outputs": [],
   "source": [
    "tfid = TfidfVectorizer(stop_words='english',max_features=100, max_df=0.5)\n",
    "tfid_X_data = tfid.fit_transform(df['post_title_processed'])\n",
    "tfid_X  = pd.DataFrame(tfid_X_data.todense(),\n",
    "                   columns=cvec.get_feature_names_out())"
   ]
  },
  {
   "cell_type": "code",
   "execution_count": 97,
   "id": "97f661bc",
   "metadata": {},
   "outputs": [
    {
     "data": {
      "text/html": [
       "<div>\n",
       "<style scoped>\n",
       "    .dataframe tbody tr th:only-of-type {\n",
       "        vertical-align: middle;\n",
       "    }\n",
       "\n",
       "    .dataframe tbody tr th {\n",
       "        vertical-align: top;\n",
       "    }\n",
       "\n",
       "    .dataframe thead th {\n",
       "        text-align: right;\n",
       "    }\n",
       "</style>\n",
       "<table border=\"1\" class=\"dataframe\">\n",
       "  <thead>\n",
       "    <tr style=\"text-align: right;\">\n",
       "      <th></th>\n",
       "      <th>actual</th>\n",
       "      <th>ago</th>\n",
       "      <th>alway</th>\n",
       "      <th>anim</th>\n",
       "      <th>anyon</th>\n",
       "      <th>art</th>\n",
       "      <th>ask</th>\n",
       "      <th>away</th>\n",
       "      <th>babi</th>\n",
       "      <th>bad</th>\n",
       "      <th>...</th>\n",
       "      <th>video</th>\n",
       "      <th>wait</th>\n",
       "      <th>want</th>\n",
       "      <th>war</th>\n",
       "      <th>way</th>\n",
       "      <th>week</th>\n",
       "      <th>woman</th>\n",
       "      <th>work</th>\n",
       "      <th>world</th>\n",
       "      <th>year</th>\n",
       "    </tr>\n",
       "  </thead>\n",
       "  <tbody>\n",
       "    <tr>\n",
       "      <th>0</th>\n",
       "      <td>0.0</td>\n",
       "      <td>0.0</td>\n",
       "      <td>0.0</td>\n",
       "      <td>0.0</td>\n",
       "      <td>0.0</td>\n",
       "      <td>0.0</td>\n",
       "      <td>0.0</td>\n",
       "      <td>0.0</td>\n",
       "      <td>0.0</td>\n",
       "      <td>0.0</td>\n",
       "      <td>...</td>\n",
       "      <td>0.0</td>\n",
       "      <td>0.0</td>\n",
       "      <td>0.0</td>\n",
       "      <td>0.0</td>\n",
       "      <td>0.0</td>\n",
       "      <td>0.0</td>\n",
       "      <td>0.0</td>\n",
       "      <td>0.0</td>\n",
       "      <td>0.0</td>\n",
       "      <td>0.0</td>\n",
       "    </tr>\n",
       "    <tr>\n",
       "      <th>1</th>\n",
       "      <td>0.0</td>\n",
       "      <td>0.0</td>\n",
       "      <td>0.0</td>\n",
       "      <td>0.0</td>\n",
       "      <td>0.0</td>\n",
       "      <td>0.0</td>\n",
       "      <td>0.0</td>\n",
       "      <td>0.0</td>\n",
       "      <td>0.0</td>\n",
       "      <td>0.0</td>\n",
       "      <td>...</td>\n",
       "      <td>0.0</td>\n",
       "      <td>0.0</td>\n",
       "      <td>0.0</td>\n",
       "      <td>0.0</td>\n",
       "      <td>0.0</td>\n",
       "      <td>0.0</td>\n",
       "      <td>0.0</td>\n",
       "      <td>0.0</td>\n",
       "      <td>0.0</td>\n",
       "      <td>0.0</td>\n",
       "    </tr>\n",
       "    <tr>\n",
       "      <th>2</th>\n",
       "      <td>0.0</td>\n",
       "      <td>0.0</td>\n",
       "      <td>0.0</td>\n",
       "      <td>0.0</td>\n",
       "      <td>0.0</td>\n",
       "      <td>0.0</td>\n",
       "      <td>0.0</td>\n",
       "      <td>0.0</td>\n",
       "      <td>0.0</td>\n",
       "      <td>0.0</td>\n",
       "      <td>...</td>\n",
       "      <td>0.0</td>\n",
       "      <td>0.0</td>\n",
       "      <td>0.0</td>\n",
       "      <td>0.0</td>\n",
       "      <td>0.0</td>\n",
       "      <td>0.0</td>\n",
       "      <td>0.0</td>\n",
       "      <td>0.0</td>\n",
       "      <td>0.0</td>\n",
       "      <td>0.0</td>\n",
       "    </tr>\n",
       "    <tr>\n",
       "      <th>3</th>\n",
       "      <td>0.0</td>\n",
       "      <td>0.0</td>\n",
       "      <td>0.0</td>\n",
       "      <td>0.0</td>\n",
       "      <td>0.0</td>\n",
       "      <td>0.0</td>\n",
       "      <td>0.0</td>\n",
       "      <td>0.0</td>\n",
       "      <td>0.0</td>\n",
       "      <td>0.0</td>\n",
       "      <td>...</td>\n",
       "      <td>0.0</td>\n",
       "      <td>0.0</td>\n",
       "      <td>0.0</td>\n",
       "      <td>0.0</td>\n",
       "      <td>0.0</td>\n",
       "      <td>0.0</td>\n",
       "      <td>0.0</td>\n",
       "      <td>0.0</td>\n",
       "      <td>0.0</td>\n",
       "      <td>0.0</td>\n",
       "    </tr>\n",
       "    <tr>\n",
       "      <th>4</th>\n",
       "      <td>0.0</td>\n",
       "      <td>0.0</td>\n",
       "      <td>0.0</td>\n",
       "      <td>0.0</td>\n",
       "      <td>0.0</td>\n",
       "      <td>0.0</td>\n",
       "      <td>0.0</td>\n",
       "      <td>0.0</td>\n",
       "      <td>0.0</td>\n",
       "      <td>0.0</td>\n",
       "      <td>...</td>\n",
       "      <td>0.0</td>\n",
       "      <td>0.0</td>\n",
       "      <td>0.0</td>\n",
       "      <td>0.0</td>\n",
       "      <td>0.0</td>\n",
       "      <td>0.0</td>\n",
       "      <td>0.0</td>\n",
       "      <td>0.0</td>\n",
       "      <td>0.0</td>\n",
       "      <td>0.0</td>\n",
       "    </tr>\n",
       "  </tbody>\n",
       "</table>\n",
       "<p>5 rows × 100 columns</p>\n",
       "</div>"
      ],
      "text/plain": [
       "   actual  ago  alway  anim  anyon  art  ask  away  babi  bad  ...  video  \\\n",
       "0     0.0  0.0    0.0   0.0    0.0  0.0  0.0   0.0   0.0  0.0  ...    0.0   \n",
       "1     0.0  0.0    0.0   0.0    0.0  0.0  0.0   0.0   0.0  0.0  ...    0.0   \n",
       "2     0.0  0.0    0.0   0.0    0.0  0.0  0.0   0.0   0.0  0.0  ...    0.0   \n",
       "3     0.0  0.0    0.0   0.0    0.0  0.0  0.0   0.0   0.0  0.0  ...    0.0   \n",
       "4     0.0  0.0    0.0   0.0    0.0  0.0  0.0   0.0   0.0  0.0  ...    0.0   \n",
       "\n",
       "   wait  want  war  way  week  woman  work  world  year  \n",
       "0   0.0   0.0  0.0  0.0   0.0    0.0   0.0    0.0   0.0  \n",
       "1   0.0   0.0  0.0  0.0   0.0    0.0   0.0    0.0   0.0  \n",
       "2   0.0   0.0  0.0  0.0   0.0    0.0   0.0    0.0   0.0  \n",
       "3   0.0   0.0  0.0  0.0   0.0    0.0   0.0    0.0   0.0  \n",
       "4   0.0   0.0  0.0  0.0   0.0    0.0   0.0    0.0   0.0  \n",
       "\n",
       "[5 rows x 100 columns]"
      ]
     },
     "execution_count": 97,
     "metadata": {},
     "output_type": "execute_result"
    }
   ],
   "source": [
    "tfid_X.head()"
   ]
  },
  {
   "cell_type": "code",
   "execution_count": 98,
   "id": "bf280a97",
   "metadata": {},
   "outputs": [
    {
     "data": {
      "text/plain": [
       "Index(['actual', 'ago', 'alway', 'anim', 'anyon', 'art', 'ask', 'away', 'babi',\n",
       "       'bad', 'best', 'big', 'boy', 'cat', 'chang', 'child', 'come', 'cosplay',\n",
       "       'day', 'dog', 'end', 'everi', 'fan', 'favorit', 'feel', 'final',\n",
       "       'friend', 'fuck', 'game', 'girl', 'good', 'great', 'gun', 'guy', 'hand',\n",
       "       'happi', 'hate', 'help', 'home', 'hope', 'hous', 'kid', 'kill', 'know',\n",
       "       'let', 'life', 'like', 'littl', 'live', 'long', 'look', 'lose', 'love',\n",
       "       'make', 'man', 'meme', 'mom', 'month', 'need', 'new', 'night', 'old',\n",
       "       'peopl', 'photo', 'play', 'pleas', 'polic', 'post', 'real', 'realli',\n",
       "       'right', 'run', 'say', 'school', 'shoot', 'someon', 'someth', 'star',\n",
       "       'start', 'stop', 'tell', 'thank', 'thing', 'think', 'thought', 'time',\n",
       "       'today', 'tri', 'turn', 'use', 'video', 'wait', 'want', 'war', 'way',\n",
       "       'week', 'woman', 'work', 'world', 'year'],\n",
       "      dtype='object')"
      ]
     },
     "execution_count": 98,
     "metadata": {},
     "output_type": "execute_result"
    }
   ],
   "source": [
    "tfid_X.columns"
   ]
  },
  {
   "cell_type": "markdown",
   "id": "e6150b26",
   "metadata": {},
   "source": [
    "## Concatenating tfidf dataframe with subreddit dummies"
   ]
  },
  {
   "cell_type": "code",
   "execution_count": 99,
   "id": "59b2892e",
   "metadata": {},
   "outputs": [
    {
     "data": {
      "text/html": [
       "<div>\n",
       "<style scoped>\n",
       "    .dataframe tbody tr th:only-of-type {\n",
       "        vertical-align: middle;\n",
       "    }\n",
       "\n",
       "    .dataframe tbody tr th {\n",
       "        vertical-align: top;\n",
       "    }\n",
       "\n",
       "    .dataframe thead th {\n",
       "        text-align: right;\n",
       "    }\n",
       "</style>\n",
       "<table border=\"1\" class=\"dataframe\">\n",
       "  <thead>\n",
       "    <tr style=\"text-align: right;\">\n",
       "      <th></th>\n",
       "      <th>author_comment_karma</th>\n",
       "      <th>author_link_karma</th>\n",
       "      <th>time_in_mins</th>\n",
       "      <th>post_is_original_content</th>\n",
       "      <th>post_over_18</th>\n",
       "      <th>post_score</th>\n",
       "      <th>post_has_link</th>\n",
       "      <th>post_spoiler</th>\n",
       "      <th>post_stickied</th>\n",
       "      <th>subreddit_subscriber_count</th>\n",
       "      <th>...</th>\n",
       "      <th>video</th>\n",
       "      <th>wait</th>\n",
       "      <th>want</th>\n",
       "      <th>war</th>\n",
       "      <th>way</th>\n",
       "      <th>week</th>\n",
       "      <th>woman</th>\n",
       "      <th>work</th>\n",
       "      <th>world</th>\n",
       "      <th>year</th>\n",
       "    </tr>\n",
       "  </thead>\n",
       "  <tbody>\n",
       "    <tr>\n",
       "      <th>0</th>\n",
       "      <td>15541</td>\n",
       "      <td>60892</td>\n",
       "      <td>665</td>\n",
       "      <td>0</td>\n",
       "      <td>0</td>\n",
       "      <td>47197</td>\n",
       "      <td>0</td>\n",
       "      <td>0</td>\n",
       "      <td>0</td>\n",
       "      <td>2536337</td>\n",
       "      <td>...</td>\n",
       "      <td>0.0</td>\n",
       "      <td>0.0</td>\n",
       "      <td>0.0</td>\n",
       "      <td>0.0</td>\n",
       "      <td>0.0</td>\n",
       "      <td>0.0</td>\n",
       "      <td>0.0</td>\n",
       "      <td>0.0</td>\n",
       "      <td>0.0</td>\n",
       "      <td>0.0</td>\n",
       "    </tr>\n",
       "    <tr>\n",
       "      <th>1</th>\n",
       "      <td>58678</td>\n",
       "      <td>6272</td>\n",
       "      <td>682</td>\n",
       "      <td>0</td>\n",
       "      <td>0</td>\n",
       "      <td>20288</td>\n",
       "      <td>0</td>\n",
       "      <td>0</td>\n",
       "      <td>0</td>\n",
       "      <td>24719676</td>\n",
       "      <td>...</td>\n",
       "      <td>0.0</td>\n",
       "      <td>0.0</td>\n",
       "      <td>0.0</td>\n",
       "      <td>0.0</td>\n",
       "      <td>0.0</td>\n",
       "      <td>0.0</td>\n",
       "      <td>0.0</td>\n",
       "      <td>0.0</td>\n",
       "      <td>0.0</td>\n",
       "      <td>0.0</td>\n",
       "    </tr>\n",
       "    <tr>\n",
       "      <th>2</th>\n",
       "      <td>3302</td>\n",
       "      <td>6450</td>\n",
       "      <td>666</td>\n",
       "      <td>0</td>\n",
       "      <td>0</td>\n",
       "      <td>13857</td>\n",
       "      <td>0</td>\n",
       "      <td>0</td>\n",
       "      <td>0</td>\n",
       "      <td>21410219</td>\n",
       "      <td>...</td>\n",
       "      <td>0.0</td>\n",
       "      <td>0.0</td>\n",
       "      <td>0.0</td>\n",
       "      <td>0.0</td>\n",
       "      <td>0.0</td>\n",
       "      <td>0.0</td>\n",
       "      <td>0.0</td>\n",
       "      <td>0.0</td>\n",
       "      <td>0.0</td>\n",
       "      <td>0.0</td>\n",
       "    </tr>\n",
       "    <tr>\n",
       "      <th>3</th>\n",
       "      <td>230</td>\n",
       "      <td>6754</td>\n",
       "      <td>748</td>\n",
       "      <td>0</td>\n",
       "      <td>0</td>\n",
       "      <td>20928</td>\n",
       "      <td>0</td>\n",
       "      <td>0</td>\n",
       "      <td>0</td>\n",
       "      <td>2315682</td>\n",
       "      <td>...</td>\n",
       "      <td>0.0</td>\n",
       "      <td>0.0</td>\n",
       "      <td>0.0</td>\n",
       "      <td>0.0</td>\n",
       "      <td>0.0</td>\n",
       "      <td>0.0</td>\n",
       "      <td>0.0</td>\n",
       "      <td>0.0</td>\n",
       "      <td>0.0</td>\n",
       "      <td>0.0</td>\n",
       "    </tr>\n",
       "    <tr>\n",
       "      <th>4</th>\n",
       "      <td>28965</td>\n",
       "      <td>6418</td>\n",
       "      <td>772</td>\n",
       "      <td>0</td>\n",
       "      <td>0</td>\n",
       "      <td>26027</td>\n",
       "      <td>0</td>\n",
       "      <td>0</td>\n",
       "      <td>0</td>\n",
       "      <td>1956757</td>\n",
       "      <td>...</td>\n",
       "      <td>0.0</td>\n",
       "      <td>0.0</td>\n",
       "      <td>0.0</td>\n",
       "      <td>0.0</td>\n",
       "      <td>0.0</td>\n",
       "      <td>0.0</td>\n",
       "      <td>0.0</td>\n",
       "      <td>0.0</td>\n",
       "      <td>0.0</td>\n",
       "      <td>0.0</td>\n",
       "    </tr>\n",
       "  </tbody>\n",
       "</table>\n",
       "<p>5 rows × 3088 columns</p>\n",
       "</div>"
      ],
      "text/plain": [
       "   author_comment_karma  author_link_karma  time_in_mins  \\\n",
       "0                 15541              60892           665   \n",
       "1                 58678               6272           682   \n",
       "2                  3302               6450           666   \n",
       "3                   230               6754           748   \n",
       "4                 28965               6418           772   \n",
       "\n",
       "   post_is_original_content  post_over_18  post_score  post_has_link  \\\n",
       "0                         0             0       47197              0   \n",
       "1                         0             0       20288              0   \n",
       "2                         0             0       13857              0   \n",
       "3                         0             0       20928              0   \n",
       "4                         0             0       26027              0   \n",
       "\n",
       "   post_spoiler  post_stickied  subreddit_subscriber_count  ...  video  wait  \\\n",
       "0             0              0                     2536337  ...    0.0   0.0   \n",
       "1             0              0                    24719676  ...    0.0   0.0   \n",
       "2             0              0                    21410219  ...    0.0   0.0   \n",
       "3             0              0                     2315682  ...    0.0   0.0   \n",
       "4             0              0                     1956757  ...    0.0   0.0   \n",
       "\n",
       "   want  war  way  week  woman  work  world  year  \n",
       "0   0.0  0.0  0.0   0.0    0.0   0.0    0.0   0.0  \n",
       "1   0.0  0.0  0.0   0.0    0.0   0.0    0.0   0.0  \n",
       "2   0.0  0.0  0.0   0.0    0.0   0.0    0.0   0.0  \n",
       "3   0.0  0.0  0.0   0.0    0.0   0.0    0.0   0.0  \n",
       "4   0.0  0.0  0.0   0.0    0.0   0.0    0.0   0.0  \n",
       "\n",
       "[5 rows x 3088 columns]"
      ]
     },
     "execution_count": 99,
     "metadata": {},
     "output_type": "execute_result"
    }
   ],
   "source": [
    "df_subreddit_tfidf=pd.concat([df_subreddit_dummies,tfid_X], axis=1)\n",
    "df_subreddit_tfidf.shape\n",
    "df_subreddit_tfidf.head()"
   ]
  },
  {
   "cell_type": "code",
   "execution_count": 100,
   "id": "2126a2b4",
   "metadata": {},
   "outputs": [],
   "source": [
    "df_subreddit_tfidf.to_csv('Data/Subreddit dummies with Tfidf.csv')"
   ]
  },
  {
   "cell_type": "markdown",
   "id": "8d2dfafc",
   "metadata": {},
   "source": [
    "> **Model 1**: Random Forest Classifier on Tfidf Vectorised data + subreddit dummies"
   ]
  },
  {
   "cell_type": "code",
   "execution_count": 111,
   "id": "040d1dee",
   "metadata": {},
   "outputs": [
    {
     "name": "stdout",
     "output_type": "stream",
     "text": [
      "The mean accuracy score is: 0.77\n",
      "\n",
      "Confusion Matrix:\n",
      "\n",
      "Predicted Values     0     1\n",
      "Actual Values               \n",
      "0                 1061   307\n",
      "1                  327  1045\n",
      "Features and their importance:\n",
      "\n",
      "AxesSubplot(0.125,0.125;0.775x0.755)\n"
     ]
    },
    {
     "data": {
      "image/png": "[encoded data removed]",
      "text/plain": [
       "<Figure size 432x432 with 1 Axes>"
      ]
     },
     "metadata": {
      "needs_background": "light"
     },
     "output_type": "display_data"
    }
   ],
   "source": [
    "rfscore1(df_subreddit_tfidf,'target',0.25,25,10)"
   ]
  },
  {
   "cell_type": "markdown",
   "id": "f98075d4",
   "metadata": {},
   "source": [
    "> **Model 2**: Gridsearch randomForest Classifier on tfidf vectorised data"
   ]
  },
  {
   "cell_type": "code",
   "execution_count": 135,
   "id": "4d1d6d41",
   "metadata": {},
   "outputs": [
    {
     "name": "stdout",
     "output_type": "stream",
     "text": [
      "Fitting 5 folds for each of 288 candidates, totalling 1440 fits\n",
      "GridSearch results\n",
      "The best parameters on the training data are:\n",
      " {'max_depth': 23, 'n_estimators': 240}\n",
      "best max_depth: 23\n",
      "best n_estimators: 240\n",
      "Random Forest Score: 0.78 +- 0.037\n",
      "\n",
      "Confusion Matrix:\n",
      "\n",
      "[[1084  284]\n",
      " [ 316 1056]]\n",
      "              precision    recall  f1-score   support\n",
      "\n",
      "           0       0.77      0.79      0.78      1368\n",
      "           1       0.79      0.77      0.78      1372\n",
      "\n",
      "    accuracy                           0.78      2740\n",
      "   macro avg       0.78      0.78      0.78      2740\n",
      "weighted avg       0.78      0.78      0.78      2740\n",
      "\n",
      "0.781021897810219\n",
      "Features and their importance:\n",
      "\n",
      "AxesSubplot(0.125,0.125;0.775x0.755)\n"
     ]
    },
    {
     "data": {
      "image/png": "[encoded data removed]",
      "text/plain": [
       "<Figure size 432x432 with 1 Axes>"
      ]
     },
     "metadata": {
      "needs_background": "light"
     },
     "output_type": "display_data"
    }
   ],
   "source": [
    "n_estimators = list(range(10,250,10))\n",
    "max_depth = list(range(1, 25, 2)) \n",
    "rfscore2(df_subreddit_tfidf,'target',0.25,n_estimators,max_depth)"
   ]
  },
  {
   "cell_type": "markdown",
   "id": "3b347f94",
   "metadata": {},
   "source": [
    "> **Model 3**: KNN Gridsearch"
   ]
  },
  {
   "cell_type": "code",
   "execution_count": 116,
   "id": "da2286fb",
   "metadata": {},
   "outputs": [
    {
     "name": "stdout",
     "output_type": "stream",
     "text": [
      "Fitting 5 folds for each of 30 candidates, totalling 150 fits\n",
      "GridSearch results\n",
      "The best parameters on the training data are:\n",
      "\n",
      "best n_neighbors: 5\n",
      "best p: 2\n",
      "best score is: 0.86\n",
      "\n",
      "Confusion matrix:\n",
      "[[  0  17]\n",
      " [  0 108]]\n"
     ]
    },
    {
     "name": "stderr",
     "output_type": "stream",
     "text": [
      "/usr/local/anaconda3/lib/python3.9/site-packages/sklearn/utils/deprecation.py:87: FutureWarning: Function plot_confusion_matrix is deprecated; Function `plot_confusion_matrix` is deprecated in 1.0 and will be removed in 1.2. Use one of the class methods: ConfusionMatrixDisplay.from_predictions or ConfusionMatrixDisplay.from_estimator.\n",
      "  warnings.warn(msg, category=FutureWarning)\n"
     ]
    },
    {
     "data": {
      "image/png": "[encoded data removed]",
      "text/plain": [
       "<Figure size 432x288 with 2 Axes>"
      ]
     },
     "metadata": {
      "needs_background": "light"
     },
     "output_type": "display_data"
    }
   ],
   "source": [
    "knnscore_gridsearch(df_subreddit_tfidf[:500],'target',0.25)"
   ]
  },
  {
   "cell_type": "markdown",
   "id": "eef1a574",
   "metadata": {},
   "source": [
    "> **Model 4**-KNeighborsClassifier without gridsearch"
   ]
  },
  {
   "cell_type": "code",
   "execution_count": 117,
   "id": "ac8f1ccc",
   "metadata": {},
   "outputs": [
    {
     "name": "stdout",
     "output_type": "stream",
     "text": [
      "KNN Score for Countvectorizer: 0.68 ± 0.02\n"
     ]
    }
   ],
   "source": [
    "kf = KFold(n_splits=5, shuffle=True,random_state=42)\n",
    "knn = KNeighborsClassifier(n_neighbors=19, p=2)\n",
    "print(\"KNN Score for Countvectorizer: %0.2f ± %0.2f\" % (cross_val_score(knn,df_subreddit_tfidf.drop('target', axis=1),df['target'],cv=kf).mean(),\n",
    "                                                           cross_val_score(knn,df_subreddit_tfidf.drop('target', axis=1),df['target'],cv=kf).std() * 2))"
   ]
  },
  {
   "cell_type": "code",
   "execution_count": 118,
   "id": "b928e201",
   "metadata": {},
   "outputs": [
    {
     "name": "stdout",
     "output_type": "stream",
     "text": [
      "KNN Score for Countvectorizer: 0.68 ± 0.02\n"
     ]
    }
   ],
   "source": [
    "knn = KNeighborsClassifier(n_neighbors=22, p=2)\n",
    "print(\"KNN Score for Countvectorizer: %0.2f ± %0.2f\" % (cross_val_score(knn,df_subreddit_cvec.drop('target', axis=1),df['target'],cv=kf).mean(),\n",
    "                                                           cross_val_score(knn,df_subreddit_cvec.drop('target', axis=1),df['target'],cv=kf).std() * 2))"
   ]
  },
  {
   "cell_type": "code",
   "execution_count": 119,
   "id": "c9e6aced",
   "metadata": {},
   "outputs": [
    {
     "name": "stdout",
     "output_type": "stream",
     "text": [
      "KNN Score for Countvectorizer: 0.68 ± 0.02\n"
     ]
    }
   ],
   "source": [
    "knn = KNeighborsClassifier(n_neighbors=27, p=2)\n",
    "print(\"KNN Score for Countvectorizer: %0.2f ± %0.2f\" % (cross_val_score(knn,df_subreddit_cvec.drop('target', axis=1),df['target'],cv=kf).mean(),\n",
    "                                                           cross_val_score(knn,df_subreddit_cvec.drop('target', axis=1),df['target'],cv=kf).std() * 2))"
   ]
  },
  {
   "cell_type": "markdown",
   "id": "ebd99bcf",
   "metadata": {},
   "source": [
    "> **Model 5**-Logistic regression"
   ]
  },
  {
   "cell_type": "code",
   "execution_count": 120,
   "id": "637623d2",
   "metadata": {},
   "outputs": [
    {
     "name": "stdout",
     "output_type": "stream",
     "text": [
      "Logreg Score for Countvectorizer: 0.73 ± 0.02\n"
     ]
    }
   ],
   "source": [
    "kf = KFold(n_splits=5, shuffle=True,random_state=42)\n",
    "logreg = LogisticRegression(random_state=42)\n",
    "print(\"Logreg Score for Countvectorizer: %0.2f ± %0.2f\" % (cross_val_score(logreg,df_subreddit_cvec.drop('target', axis=1),df['target'],cv=kf).mean(),\n",
    "                                                           cross_val_score(logreg,df_subreddit_cvec.drop('target', axis=1),df['target'],cv=kf).std() * 2))"
   ]
  },
  {
   "cell_type": "markdown",
   "id": "bea8613f",
   "metadata": {},
   "source": [
    "> **Model 6**: Using Ensemble methods"
   ]
  },
  {
   "cell_type": "code",
   "execution_count": 121,
   "id": "e1a4533f",
   "metadata": {},
   "outputs": [
    {
     "name": "stdout",
     "output_type": "stream",
     "text": [
      "DT: 0.75 +/- 0.02\n",
      "Bagging: 0.79 +/- 0.03\n"
     ]
    }
   ],
   "source": [
    "from sklearn.ensemble import BaggingClassifier\n",
    "from sklearn.tree import DecisionTreeClassifier\n",
    "\n",
    "cv_kf = KFold(n_splits=10,\n",
    "              shuffle=True,\n",
    "              random_state=30113)\n",
    "\n",
    "clf = DecisionTreeClassifier(random_state=42)\n",
    "bagger = BaggingClassifier(clf, random_state=42)\n",
    "\n",
    "base_scores_1 = cross_val_score(clf, df_subreddit_cvec.drop('target', axis=1),df['target'], cv=cv_kf)\n",
    "ensemble_scores_1 = cross_val_score(bagger, df_subreddit_cvec.drop('target', axis=1),df['target'], cv=cv_kf)\n",
    "\n",
    "print(\"DT: {:.2f} +/- {:.2f}\".format(base_scores_1.mean(), \n",
    "                                     2 * base_scores_1.std()))\n",
    "print(\"Bagging: {:.2f} +/- {:.2f}\".format(ensemble_scores_1.mean(), \n",
    "                                          2 * ensemble_scores_1.std()))"
   ]
  },
  {
   "cell_type": "markdown",
   "id": "68b6d44f",
   "metadata": {},
   "source": [
    ">**Model 7**: Decision Stump"
   ]
  },
  {
   "cell_type": "code",
   "execution_count": 122,
   "id": "3a63259a",
   "metadata": {},
   "outputs": [
    {
     "name": "stdout",
     "output_type": "stream",
     "text": [
      "Bagging: 0.73 +/- 0.04\n"
     ]
    }
   ],
   "source": [
    "clf2 = DecisionTreeClassifier(max_depth=1,\n",
    "                              random_state=42)\n",
    "bagger = BaggingClassifier(clf2, \n",
    "                           random_state=42)\n",
    "\n",
    "ensemble_scores = cross_val_score(bagger, df_subreddit_cvec.drop('target', axis=1),df['target'], cv=cv_kf)\n",
    "print(\"Bagging: {:.2f} +/- {:.2f}\".format(ensemble_scores.mean(),\n",
    "                                          2 * ensemble_scores.std()))"
   ]
  },
  {
   "cell_type": "markdown",
   "id": "efbbf1ec",
   "metadata": {},
   "source": [
    "## Executive Summary"
   ]
  },
  {
   "cell_type": "markdown",
   "id": "501ea5bd",
   "metadata": {},
   "source": [
    "Conclusion points are as follows:\n",
    "\n",
    "1. Bagging is giving the best score on the dataset followed by Random Forest Classifier with \n",
    "gridsearch and Decision Tree.\n",
    "\n",
    "2. KNeighbors classifier with gridsearch is too burdensome for my system. The complexity of algorithms therefore should be considered into account while dealing with huge datasets.\n",
    "\n",
    "3. KNeighbors classifier(without gridsearch) are giving almost comparable scores at 0.68 which is not that good but way above our baseline.\n",
    "\n",
    "4. The respective scores of different models on both Tfidf vectorised and Countvectorized data are similar.\n",
    "\n",
    "5. I had removed num_of_comments on post from X as including that would lead to leaking info in the target variable.\n",
    "\n",
    "6. After analysing, I realised that time_in_min the post stays on hot thread may be very likely be highly correlated with number of comments, so another analysis after removing this variable should be done to see the results and compare.\n",
    "\n",
    "7. My recommendations based on the analysis for a new post-\n",
    "    -Post in a subreddit with high subscriber count.\n",
    "    -The author's karma(link and comment) matters!(Eternal truth)\n",
    "    -Have a decent title length\n",
    "    -Politics, games, funny etc are popular topics. Tag them in your post.\n",
    "    -Ask family, friends,co-workers and acquaintances to upvote your post. Try upvoting bots??\n",
    "\n",
    "8. There seems to be a research design problem here, if we want to conclude whether a new post would be hot would require analysis on both hot and non-hot threads, but we are only considering hot threads here. So, the right conclusion here is assuming a new thread which we somehow know is a hot thread based on anaysis here, we can only predict whether it will be in the upper half of hot threads cutoff decided by median number of comments."
   ]
  },
  {
   "cell_type": "code",
   "execution_count": null,
   "id": "0129b8a6",
   "metadata": {},
   "outputs": [],
   "source": []
  }
 ],
 "metadata": {
  "kernelspec": {
   "display_name": "Python 3 (ipykernel)",
   "language": "python",
   "name": "python3"
  },
  "language_info": {
   "codemirror_mode": {
    "name": "ipython",
    "version": 3
   },
   "file_extension": ".py",
   "mimetype": "text/x-python",
   "name": "python",
   "nbconvert_exporter": "python",
   "pygments_lexer": "ipython3",
   "version": "3.9.7"
  },
  "toc": {
   "base_numbering": 1,
   "nav_menu": {},
   "number_sections": true,
   "sideBar": true,
   "skip_h1_title": false,
   "title_cell": "Table of Contents",
   "title_sidebar": "Contents",
   "toc_cell": false,
   "toc_position": {},
   "toc_section_display": true,
   "toc_window_display": false
  }
 },
 "nbformat": 4,
 "nbformat_minor": 5
}
